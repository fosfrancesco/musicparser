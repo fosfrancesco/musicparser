{
 "cells": [
  {
   "cell_type": "code",
   "execution_count": 16,
   "metadata": {},
   "outputs": [],
   "source": [
    "import zipfile\n",
    "from pathlib import Path\n",
    "import partitura\n",
    "import pandas"
   ]
  },
  {
   "cell_type": "code",
   "execution_count": 5,
   "metadata": {},
   "outputs": [],
   "source": [
    "#unzip all files in zips folder\n",
    "\n",
    "for zip_file in Path(\"zips\").iterdir():\n",
    "    with zipfile.ZipFile(zip_file, 'r') as zip_ref:\n",
    "        zip_ref.extractall(Path(\"unzipped\"))"
   ]
  },
  {
   "cell_type": "code",
   "execution_count": 7,
   "metadata": {},
   "outputs": [],
   "source": [
    "# check if ts trees are in unzipped folder\n",
    "for folder in Path(\"unzipped\").iterdir():\n",
    "    if not any([file.name.startswith(\"TS\") for file in folder.iterdir()]):\n",
    "        print(\"not a TS tree in \", folder)"
   ]
  },
  {
   "cell_type": "code",
   "execution_count": null,
   "metadata": {},
   "outputs": [],
   "source": [
    "# check if there are scores everywhere\n",
    "for folder in Path(\"unzipped\").iterdir():\n",
    "    msc_file = [file for file in folder.iterdir() if file.name.startswith(\"MSC\")]\n",
    "    numbered_file = [file for file in folder.iterdir() if file.name.startswith(folder.name[:2])]\n",
    "    assert(len(msc_file)+len(numbered_file) == 1)\n",
    "    score_file = msc_file[0] if len(msc_file) == 1 else numbered_file[0]\n",
    "    try:\n",
    "        score = partitura.load_musicxml(str(score_file))\n",
    "    except Exception as e:\n",
    "        print(\"error loading \", score_file, e)"
   ]
  },
  {
   "cell_type": "code",
   "execution_count": 17,
   "metadata": {},
   "outputs": [],
   "source": [
    "# build a pandas dataframe with all the scores paths\n",
    "def get_score_path(folder):\n",
    "    msc_file = [file for file in folder.iterdir() if file.name.startswith(\"MSC\")]\n",
    "    numbered_file = [file for file in folder.iterdir() if file.name.startswith(folder.name[:2])]\n",
    "    assert(len(msc_file)+len(numbered_file) == 1)\n",
    "    score_file = msc_file[0] if len(msc_file) == 1 else numbered_file[0]\n",
    "    return str(score_file)\n",
    "\n",
    "def get_ts_path(folder):\n",
    "    ts_file = [file for file in folder.iterdir() if file.name.startswith(\"TS\")]\n",
    "    assert(len(ts_file) == 1)\n",
    "    return str(ts_file[0])\n",
    "\n",
    "list_of_tuples = []\n",
    "\n",
    "for folder in Path(\"unzipped\").iterdir():\n",
    "    list_of_tuples.append((get_score_path(folder), get_ts_path(folder)))\n",
    "\n",
    "df = pandas.DataFrame(list_of_tuples, columns = ['score', 'ts'])"
   ]
  },
  {
   "cell_type": "code",
   "execution_count": 18,
   "metadata": {},
   "outputs": [
    {
     "data": {
      "text/html": [
       "<div>\n",
       "<style scoped>\n",
       "    .dataframe tbody tr th:only-of-type {\n",
       "        vertical-align: middle;\n",
       "    }\n",
       "\n",
       "    .dataframe tbody tr th {\n",
       "        vertical-align: top;\n",
       "    }\n",
       "\n",
       "    .dataframe thead th {\n",
       "        text-align: right;\n",
       "    }\n",
       "</style>\n",
       "<table border=\"1\" class=\"dataframe\">\n",
       "  <thead>\n",
       "    <tr style=\"text-align: right;\">\n",
       "      <th></th>\n",
       "      <th>score</th>\n",
       "      <th>ts</th>\n",
       "    </tr>\n",
       "  </thead>\n",
       "  <tbody>\n",
       "    <tr>\n",
       "      <th>0</th>\n",
       "      <td>unzipped\\01\\01_Waltz in E flat Grande Valse Br...</td>\n",
       "      <td>unzipped\\01\\TS-01.xml</td>\n",
       "    </tr>\n",
       "    <tr>\n",
       "      <th>1</th>\n",
       "      <td>unzipped\\02\\02_Moments Musicaux.xml</td>\n",
       "      <td>unzipped\\02\\TS-02.xml</td>\n",
       "    </tr>\n",
       "    <tr>\n",
       "      <th>2</th>\n",
       "      <td>unzipped\\03\\03_Bagatelle 'Fur Elise' WoO.59.xml</td>\n",
       "      <td>unzipped\\03\\TS-03.xml</td>\n",
       "    </tr>\n",
       "    <tr>\n",
       "      <th>3</th>\n",
       "      <td>unzipped\\04\\04_The Preludes Op.28 No.15.xml</td>\n",
       "      <td>unzipped\\04\\TS-04.xml</td>\n",
       "    </tr>\n",
       "    <tr>\n",
       "      <th>4</th>\n",
       "      <td>unzipped\\05\\05_Turkish March.xml</td>\n",
       "      <td>unzipped\\05\\TS-05.xml</td>\n",
       "    </tr>\n",
       "    <tr>\n",
       "      <th>...</th>\n",
       "      <td>...</td>\n",
       "      <td>...</td>\n",
       "    </tr>\n",
       "    <tr>\n",
       "      <th>328</th>\n",
       "      <td>unzipped\\95\\95_12 Variationen uber ein franzos...</td>\n",
       "      <td>unzipped\\95\\TS-95.xml</td>\n",
       "    </tr>\n",
       "    <tr>\n",
       "      <th>329</th>\n",
       "      <td>unzipped\\96\\96_Lieder ohne Worte Heft 5 Op.62-...</td>\n",
       "      <td>unzipped\\96\\TS-96.xml</td>\n",
       "    </tr>\n",
       "    <tr>\n",
       "      <th>330</th>\n",
       "      <td>unzipped\\97\\97_Les Patineurs Op.183.xml</td>\n",
       "      <td>unzipped\\97\\TS-97.xml</td>\n",
       "    </tr>\n",
       "    <tr>\n",
       "      <th>331</th>\n",
       "      <td>unzipped\\98\\98_Sonate fur Klavier Nr.8 c moll ...</td>\n",
       "      <td>unzipped\\98\\TS-98.xml</td>\n",
       "    </tr>\n",
       "    <tr>\n",
       "      <th>332</th>\n",
       "      <td>unzipped\\99\\99_3 Valses No.7 Op.64-2 cis moll.xml</td>\n",
       "      <td>unzipped\\99\\TS-99.xml</td>\n",
       "    </tr>\n",
       "  </tbody>\n",
       "</table>\n",
       "<p>333 rows × 2 columns</p>\n",
       "</div>"
      ],
      "text/plain": [
       "                                                 score                     ts\n",
       "0    unzipped\\01\\01_Waltz in E flat Grande Valse Br...  unzipped\\01\\TS-01.xml\n",
       "1                  unzipped\\02\\02_Moments Musicaux.xml  unzipped\\02\\TS-02.xml\n",
       "2      unzipped\\03\\03_Bagatelle 'Fur Elise' WoO.59.xml  unzipped\\03\\TS-03.xml\n",
       "3          unzipped\\04\\04_The Preludes Op.28 No.15.xml  unzipped\\04\\TS-04.xml\n",
       "4                     unzipped\\05\\05_Turkish March.xml  unzipped\\05\\TS-05.xml\n",
       "..                                                 ...                    ...\n",
       "328  unzipped\\95\\95_12 Variationen uber ein franzos...  unzipped\\95\\TS-95.xml\n",
       "329  unzipped\\96\\96_Lieder ohne Worte Heft 5 Op.62-...  unzipped\\96\\TS-96.xml\n",
       "330            unzipped\\97\\97_Les Patineurs Op.183.xml  unzipped\\97\\TS-97.xml\n",
       "331  unzipped\\98\\98_Sonate fur Klavier Nr.8 c moll ...  unzipped\\98\\TS-98.xml\n",
       "332  unzipped\\99\\99_3 Valses No.7 Op.64-2 cis moll.xml  unzipped\\99\\TS-99.xml\n",
       "\n",
       "[333 rows x 2 columns]"
      ]
     },
     "execution_count": 18,
     "metadata": {},
     "output_type": "execute_result"
    }
   ],
   "source": [
    "df"
   ]
  },
  {
   "cell_type": "code",
   "execution_count": null,
   "metadata": {},
   "outputs": [],
   "source": []
  }
 ],
 "metadata": {
  "kernelspec": {
   "display_name": "mir_research",
   "language": "python",
   "name": "python3"
  },
  "language_info": {
   "codemirror_mode": {
    "name": "ipython",
    "version": 3
   },
   "file_extension": ".py",
   "mimetype": "text/x-python",
   "name": "python",
   "nbconvert_exporter": "python",
   "pygments_lexer": "ipython3",
   "version": "3.7.10"
  },
  "orig_nbformat": 4,
  "vscode": {
   "interpreter": {
    "hash": "3f1defdb6e528c92394a482667a2ea35ed01929f12d341eb60638c375e0e2c71"
   }
  }
 },
 "nbformat": 4,
 "nbformat_minor": 2
}
