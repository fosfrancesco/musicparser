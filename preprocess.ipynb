{
 "cells": [
  {
   "cell_type": "code",
   "execution_count": 5,
   "metadata": {},
   "outputs": [],
   "source": [
    "import zipfile\n",
    "from pathlib import Path\n",
    "import partitura\n",
    "import pandas as pd\n",
    "import xml.etree.ElementTree as ET"
   ]
  },
  {
   "cell_type": "code",
   "execution_count": 5,
   "metadata": {},
   "outputs": [],
   "source": [
    "#unzip all files in zips folder\n",
    "\n",
    "for zip_file in Path(\"zips\").iterdir():\n",
    "    with zipfile.ZipFile(zip_file, 'r') as zip_ref:\n",
    "        zip_ref.extractall(Path(\"unzipped\"))"
   ]
  },
  {
   "cell_type": "code",
   "execution_count": 7,
   "metadata": {},
   "outputs": [],
   "source": [
    "# check if ts trees are in unzipped folder\n",
    "for folder in Path(\"unzipped\").iterdir():\n",
    "    if not any([file.name.startswith(\"TS\") for file in folder.iterdir()]):\n",
    "        print(\"not a TS tree in \", folder)"
   ]
  },
  {
   "cell_type": "code",
   "execution_count": null,
   "metadata": {},
   "outputs": [],
   "source": [
    "# check if there are scores everywhere\n",
    "for folder in Path(\"unzipped\").iterdir():\n",
    "    msc_file = [file for file in folder.iterdir() if file.name.startswith(\"MSC\")]\n",
    "    numbered_file = [file for file in folder.iterdir() if file.name.startswith(folder.name[:2])]\n",
    "    assert(len(msc_file)+len(numbered_file) == 1)\n",
    "    score_file = msc_file[0] if len(msc_file) == 1 else numbered_file[0]\n",
    "    try:\n",
    "        score = partitura.load_musicxml(str(score_file))\n",
    "    except Exception as e:\n",
    "        print(\"error loading \", score_file, e)"
   ]
  },
  {
   "cell_type": "code",
   "execution_count": 3,
   "metadata": {},
   "outputs": [],
   "source": [
    "# build a pandas dataframe with all the scores paths\n",
    "def get_score_path(folder):\n",
    "    msc_file = [file for file in folder.iterdir() if file.name.startswith(\"MSC\")]\n",
    "    numbered_file = [file for file in folder.iterdir() if file.name.startswith(folder.name[:2])]\n",
    "    assert(len(msc_file)+len(numbered_file) == 1)\n",
    "    score_file = msc_file[0] if len(msc_file) == 1 else numbered_file[0]\n",
    "    return str(score_file)\n",
    "\n",
    "def get_ts_path(folder):\n",
    "    ts_file = [file for file in folder.iterdir() if file.name.startswith(\"TS\")]\n",
    "    assert(len(ts_file) == 1)\n",
    "    return str(ts_file[0])\n",
    "\n",
    "list_of_tuples = []\n",
    "\n",
    "for folder in Path(\"data\").iterdir():\n",
    "    list_of_tuples.append((get_score_path(folder), get_ts_path(folder)))\n",
    "\n",
    "df = pd.DataFrame(list_of_tuples, columns = ['score', 'ts'])"
   ]
  },
  {
   "cell_type": "code",
   "execution_count": 4,
   "metadata": {},
   "outputs": [
    {
     "data": {
      "text/html": [
       "<div>\n",
       "<style scoped>\n",
       "    .dataframe tbody tr th:only-of-type {\n",
       "        vertical-align: middle;\n",
       "    }\n",
       "\n",
       "    .dataframe tbody tr th {\n",
       "        vertical-align: top;\n",
       "    }\n",
       "\n",
       "    .dataframe thead th {\n",
       "        text-align: right;\n",
       "    }\n",
       "</style>\n",
       "<table border=\"1\" class=\"dataframe\">\n",
       "  <thead>\n",
       "    <tr style=\"text-align: right;\">\n",
       "      <th></th>\n",
       "      <th>score</th>\n",
       "      <th>ts</th>\n",
       "    </tr>\n",
       "  </thead>\n",
       "  <tbody>\n",
       "    <tr>\n",
       "      <th>0</th>\n",
       "      <td>data\\01\\01_Waltz in E flat Grande Valse Brilla...</td>\n",
       "      <td>data\\01\\TS-01.xml</td>\n",
       "    </tr>\n",
       "    <tr>\n",
       "      <th>1</th>\n",
       "      <td>data\\02\\02_Moments Musicaux.xml</td>\n",
       "      <td>data\\02\\TS-02.xml</td>\n",
       "    </tr>\n",
       "    <tr>\n",
       "      <th>2</th>\n",
       "      <td>data\\03\\03_Bagatelle 'Fur Elise' WoO.59.xml</td>\n",
       "      <td>data\\03\\TS-03.xml</td>\n",
       "    </tr>\n",
       "    <tr>\n",
       "      <th>3</th>\n",
       "      <td>data\\04\\04_The Preludes Op.28 No.15.xml</td>\n",
       "      <td>data\\04\\TS-04.xml</td>\n",
       "    </tr>\n",
       "    <tr>\n",
       "      <th>4</th>\n",
       "      <td>data\\05\\05_Turkish March.xml</td>\n",
       "      <td>data\\05\\TS-05.xml</td>\n",
       "    </tr>\n",
       "    <tr>\n",
       "      <th>...</th>\n",
       "      <td>...</td>\n",
       "      <td>...</td>\n",
       "    </tr>\n",
       "    <tr>\n",
       "      <th>328</th>\n",
       "      <td>data\\95\\95_12 Variationen uber ein franzosisch...</td>\n",
       "      <td>data\\95\\TS-95.xml</td>\n",
       "    </tr>\n",
       "    <tr>\n",
       "      <th>329</th>\n",
       "      <td>data\\96\\96_Lieder ohne Worte Heft 5 Op.62-6 Fr...</td>\n",
       "      <td>data\\96\\TS-96.xml</td>\n",
       "    </tr>\n",
       "    <tr>\n",
       "      <th>330</th>\n",
       "      <td>data\\97\\97_Les Patineurs Op.183.xml</td>\n",
       "      <td>data\\97\\TS-97.xml</td>\n",
       "    </tr>\n",
       "    <tr>\n",
       "      <th>331</th>\n",
       "      <td>data\\98\\98_Sonate fur Klavier Nr.8 c moll Path...</td>\n",
       "      <td>data\\98\\TS-98.xml</td>\n",
       "    </tr>\n",
       "    <tr>\n",
       "      <th>332</th>\n",
       "      <td>data\\99\\99_3 Valses No.7 Op.64-2 cis moll.xml</td>\n",
       "      <td>data\\99\\TS-99.xml</td>\n",
       "    </tr>\n",
       "  </tbody>\n",
       "</table>\n",
       "<p>333 rows × 2 columns</p>\n",
       "</div>"
      ],
      "text/plain": [
       "                                                 score                 ts\n",
       "0    data\\01\\01_Waltz in E flat Grande Valse Brilla...  data\\01\\TS-01.xml\n",
       "1                      data\\02\\02_Moments Musicaux.xml  data\\02\\TS-02.xml\n",
       "2          data\\03\\03_Bagatelle 'Fur Elise' WoO.59.xml  data\\03\\TS-03.xml\n",
       "3              data\\04\\04_The Preludes Op.28 No.15.xml  data\\04\\TS-04.xml\n",
       "4                         data\\05\\05_Turkish March.xml  data\\05\\TS-05.xml\n",
       "..                                                 ...                ...\n",
       "328  data\\95\\95_12 Variationen uber ein franzosisch...  data\\95\\TS-95.xml\n",
       "329  data\\96\\96_Lieder ohne Worte Heft 5 Op.62-6 Fr...  data\\96\\TS-96.xml\n",
       "330                data\\97\\97_Les Patineurs Op.183.xml  data\\97\\TS-97.xml\n",
       "331  data\\98\\98_Sonate fur Klavier Nr.8 c moll Path...  data\\98\\TS-98.xml\n",
       "332      data\\99\\99_3 Valses No.7 Op.64-2 cis moll.xml  data\\99\\TS-99.xml\n",
       "\n",
       "[333 rows x 2 columns]"
      ]
     },
     "execution_count": 4,
     "metadata": {},
     "output_type": "execute_result"
    }
   ],
   "source": [
    "df"
   ]
  },
  {
   "attachments": {},
   "cell_type": "markdown",
   "metadata": {},
   "source": [
    "# Parse tree annotations from the xml file"
   ]
  },
  {
   "cell_type": "code",
   "execution_count": 6,
   "metadata": {},
   "outputs": [],
   "source": [
    "# parse the xml file with annotations in a list of dependencies\n",
    "tree = ET.parse(r'data\\01\\TS-01.xml')\n",
    "root = tree.getroot()"
   ]
  },
  {
   "cell_type": "code",
   "execution_count": 7,
   "metadata": {},
   "outputs": [
    {
     "name": "stdout",
     "output_type": "stream",
     "text": [
      "ts {'timespan': '24.0', 'leftend': '0.0', 'rightend': '24.0'}\n",
      "head {}\n",
      "chord {'duration': '3.0', 'velocity': '90'}\n"
     ]
    }
   ],
   "source": [
    "for child in root:\n",
    "    print(child.tag, child.attrib)\n",
    "    for child2 in child:\n",
    "        print(child2.tag, child2.attrib)\n",
    "        for child3 in child2:\n",
    "            print(child3.tag, child3.attrib)\n",
    "        break\n",
    "    break"
   ]
  },
  {
   "cell_type": "code",
   "execution_count": 28,
   "metadata": {},
   "outputs": [
    {
     "data": {
      "text/plain": [
       "{'timespan': '13.0', 'leftend': '11.0', 'rightend': '24.0'}"
      ]
     },
     "execution_count": 28,
     "metadata": {},
     "output_type": "execute_result"
    }
   ],
   "source": [
    "root.find(\"ts\").find(\"primary\").find(\"ts\").attrib"
   ]
  },
  {
   "cell_type": "code",
   "execution_count": 45,
   "metadata": {},
   "outputs": [],
   "source": [
    "# def iterative_parse(xml_elem):\n",
    "#     primary_children = xml_elem.find(\"ts\").find(\"primary\")\n",
    "#     secondary_children = xml_elem.find(\"ts\").find(\"secondary\")\n",
    "#     # recursion ending condition\n",
    "#     if primary_children is None:\n",
    "#         assert secondary_children is None\n",
    "#         return xml_elem.find(\"ts\").find(\"head\").find(\"chord\").find(\"note\").attrib[\"id\"]\n",
    "#     else:\n",
    "#         assert secondary_children is not None\n",
    "#         return [iterative_parse(primary_children), iterative_parse(secondary_children)]\n",
    "\n",
    "\n",
    "# iterative_parse(root)"
   ]
  },
  {
   "cell_type": "code",
   "execution_count": 46,
   "metadata": {},
   "outputs": [
    {
     "data": {
      "text/plain": [
       "[('P1-7-2', 'P1-7-3'),\n",
       " ('P1-7-4', 'P1-7-2'),\n",
       " ('P1-7-4', 'P1-7-1'),\n",
       " ('P1-8-1', 'P1-7-4'),\n",
       " ('P1-6-2', 'P1-6-3'),\n",
       " ('P1-6-4', 'P1-6-2'),\n",
       " ('P1-6-4', 'P1-6-1'),\n",
       " ('P1-5-2', 'P1-5-3'),\n",
       " ('P1-5-4', 'P1-5-2'),\n",
       " ('P1-4-2', 'P1-4-3'),\n",
       " ('P1-5-1', 'P1-4-2'),\n",
       " ('P1-5-4', 'P1-5-1'),\n",
       " ('P1-6-4', 'P1-5-4'),\n",
       " ('P1-8-1', 'P1-6-4'),\n",
       " ('P1-3-2', 'P1-3-3'),\n",
       " ('P1-3-1', 'P1-3-2'),\n",
       " ('P1-3-4', 'P1-3-1'),\n",
       " ('P1-4-1', 'P1-3-4'),\n",
       " ('P1-1-2', 'P1-1-3'),\n",
       " ('P1-1-1', 'P1-1-2'),\n",
       " ('P1-1-4', 'P1-1-1'),\n",
       " ('P1-2-2', 'P1-2-3'),\n",
       " ('P1-2-1', 'P1-2-2'),\n",
       " ('P1-2-4', 'P1-2-1'),\n",
       " ('P1-1-4', 'P1-2-4'),\n",
       " ('P1-4-1', 'P1-1-4'),\n",
       " ('P1-8-1', 'P1-4-1')]"
      ]
     },
     "execution_count": 46,
     "metadata": {},
     "output_type": "execute_result"
    }
   ],
   "source": [
    "def iterative_parse(xml_elem):\n",
    "    primary_children = xml_elem.find(\"ts\").find(\"primary\")\n",
    "    secondary_children = xml_elem.find(\"ts\").find(\"secondary\")\n",
    "    if primary_children is None: # recursion ending condition\n",
    "        assert secondary_children is None\n",
    "        return [], xml_elem.find(\"ts\").find(\"head\").find(\"chord\").find(\"note\").attrib[\"id\"]\n",
    "    else: # recursive call\n",
    "        assert secondary_children is not None\n",
    "        out_list = [] # dependency list\n",
    "        iterative_result_primary = iterative_parse(primary_children)\n",
    "        iterative_result_secondary = iterative_parse(secondary_children)\n",
    "        # merge the dependencies lists computed deeper\n",
    "        out_list.extend(iterative_result_primary[0])\n",
    "        out_list.extend(iterative_result_secondary[0])\n",
    "        # append the dependency for the current node\n",
    "        out_list.append((iterative_result_primary[1], iterative_result_secondary[1]))\n",
    "        # return the dependency list, and the id of the current node, i.e., the primary\n",
    "        return out_list, iterative_parse(primary_children)[1]\n",
    "\n",
    "\n",
    "arcs = iterative_parse(root)[0]\n",
    "arcs"
   ]
  },
  {
   "cell_type": "code",
   "execution_count": 47,
   "metadata": {},
   "outputs": [],
   "source": [
    "import numpy as np\n",
    "note_ids = list(np.unique([e.attrib['id'] for e in root.findall('''.//note''')]))"
   ]
  },
  {
   "cell_type": "code",
   "execution_count": 43,
   "metadata": {},
   "outputs": [],
   "source": [
    "spacy_words = [{\"text\": word, \"tag\": \"\"} for word in note_ids]\n",
    "arcs = []\n",
    "for start_id, end_id in arcs:\n",
    "    start_ix = note_ids.index(start_id)\n",
    "    end_ix = note_ids.index(end_id)\n",
    "    if start_ix < end_ix:\n",
    "        arcs.append({\"start\": start_ix, \"end\": end_ix, \"label\": \"\", \"dir\": \"right\"})\n",
    "    else:\n",
    "        arcs.append({\"start\": end_ix, \"end\": start_ix, \"label\": \"\", \"dir\": \"left\"})\n",
    "\n",
    "\n",
    "spacy_dict = {\n",
    "    \"words\": [\n",
    "        {\"text\": \"This\", \"tag\": \"\"},\n",
    "        {\"text\": \"is\", \"tag\": \"\"},\n",
    "        {\"text\": \"a\", \"tag\": \"\"},\n",
    "        {\"text\": \"sentence\", \"tag\": \"\"}\n",
    "    ],\n",
    "    \"arcs\": [\n",
    "        {\"start\": 0, \"end\": 1, \"label\": \"\", \"dir\": \"right\"},\n",
    "        {\"start\": 2, \"end\": 3, \"label\": \"\", \"dir\": \"left\"},\n",
    "        {\"start\": 1, \"end\": 3, \"label\": \"\", \"dir\": \"right\"}\n",
    "    ]\n",
    "}"
   ]
  },
  {
   "cell_type": "code",
   "execution_count": null,
   "metadata": {},
   "outputs": [],
   "source": []
  },
  {
   "cell_type": "code",
   "execution_count": 18,
   "metadata": {},
   "outputs": [
    {
     "name": "stdout",
     "output_type": "stream",
     "text": [
      "Token           | Relation | Head            | Children            \n",
      "----------------------------------------------------------------------\n",
      "Deemed          | amod     | universities    | []                  \n",
      "universities    | nsubj    | charge          | [Deemed]            \n",
      "charge          | ROOT     | charge          | [universities, fees]\n",
      "huge            | amod     | fees            | []                  \n",
      "fees            | dobj     | charge          | [huge]              \n"
     ]
    },
    {
     "data": {
      "text/html": [
       "<span class=\"tex2jax_ignore\"><svg xmlns=\"http://www.w3.org/2000/svg\" xmlns:xlink=\"http://www.w3.org/1999/xlink\" xml:lang=\"en\" id=\"490bd08870b6446c89a2a169915e7044-0\" class=\"displacy\" width=\"650\" height=\"257.0\" direction=\"ltr\" style=\"max-width: none; height: 257.0px; color: #000000; background: #ffffff; font-family: Arial; direction: ltr\">\n",
       "<text class=\"displacy-token\" fill=\"currentColor\" text-anchor=\"middle\" y=\"167.0\">\n",
       "    <tspan class=\"displacy-word\" fill=\"currentColor\" x=\"50\">Deemed</tspan>\n",
       "    <tspan class=\"displacy-tag\" dy=\"2em\" fill=\"currentColor\" x=\"50\">PROPN</tspan>\n",
       "</text>\n",
       "\n",
       "<text class=\"displacy-token\" fill=\"currentColor\" text-anchor=\"middle\" y=\"167.0\">\n",
       "    <tspan class=\"displacy-word\" fill=\"currentColor\" x=\"170\">universities</tspan>\n",
       "    <tspan class=\"displacy-tag\" dy=\"2em\" fill=\"currentColor\" x=\"170\">NOUN</tspan>\n",
       "</text>\n",
       "\n",
       "<text class=\"displacy-token\" fill=\"currentColor\" text-anchor=\"middle\" y=\"167.0\">\n",
       "    <tspan class=\"displacy-word\" fill=\"currentColor\" x=\"290\">charge</tspan>\n",
       "    <tspan class=\"displacy-tag\" dy=\"2em\" fill=\"currentColor\" x=\"290\">VERB</tspan>\n",
       "</text>\n",
       "\n",
       "<text class=\"displacy-token\" fill=\"currentColor\" text-anchor=\"middle\" y=\"167.0\">\n",
       "    <tspan class=\"displacy-word\" fill=\"currentColor\" x=\"410\">huge</tspan>\n",
       "    <tspan class=\"displacy-tag\" dy=\"2em\" fill=\"currentColor\" x=\"410\">ADJ</tspan>\n",
       "</text>\n",
       "\n",
       "<text class=\"displacy-token\" fill=\"currentColor\" text-anchor=\"middle\" y=\"167.0\">\n",
       "    <tspan class=\"displacy-word\" fill=\"currentColor\" x=\"530\">fees</tspan>\n",
       "    <tspan class=\"displacy-tag\" dy=\"2em\" fill=\"currentColor\" x=\"530\">NOUN</tspan>\n",
       "</text>\n",
       "\n",
       "<g class=\"displacy-arrow\">\n",
       "    <path class=\"displacy-arc\" id=\"arrow-490bd08870b6446c89a2a169915e7044-0-0\" stroke-width=\"2px\" d=\"M70,122.0 C70,62.0 165.0,62.0 165.0,122.0\" fill=\"none\" stroke=\"currentColor\"/>\n",
       "    <text dy=\"1.25em\" style=\"font-size: 0.8em; letter-spacing: 1px\">\n",
       "        <textPath xlink:href=\"#arrow-490bd08870b6446c89a2a169915e7044-0-0\" class=\"displacy-label\" startOffset=\"50%\" side=\"left\" fill=\"currentColor\" text-anchor=\"middle\">amod</textPath>\n",
       "    </text>\n",
       "    <path class=\"displacy-arrowhead\" d=\"M70,124.0 L62,112.0 78,112.0\" fill=\"currentColor\"/>\n",
       "</g>\n",
       "\n",
       "<g class=\"displacy-arrow\">\n",
       "    <path class=\"displacy-arc\" id=\"arrow-490bd08870b6446c89a2a169915e7044-0-1\" stroke-width=\"2px\" d=\"M190,122.0 C190,62.0 285.0,62.0 285.0,122.0\" fill=\"none\" stroke=\"currentColor\"/>\n",
       "    <text dy=\"1.25em\" style=\"font-size: 0.8em; letter-spacing: 1px\">\n",
       "        <textPath xlink:href=\"#arrow-490bd08870b6446c89a2a169915e7044-0-1\" class=\"displacy-label\" startOffset=\"50%\" side=\"left\" fill=\"currentColor\" text-anchor=\"middle\">nsubj</textPath>\n",
       "    </text>\n",
       "    <path class=\"displacy-arrowhead\" d=\"M190,124.0 L182,112.0 198,112.0\" fill=\"currentColor\"/>\n",
       "</g>\n",
       "\n",
       "<g class=\"displacy-arrow\">\n",
       "    <path class=\"displacy-arc\" id=\"arrow-490bd08870b6446c89a2a169915e7044-0-2\" stroke-width=\"2px\" d=\"M430,122.0 C430,62.0 525.0,62.0 525.0,122.0\" fill=\"none\" stroke=\"currentColor\"/>\n",
       "    <text dy=\"1.25em\" style=\"font-size: 0.8em; letter-spacing: 1px\">\n",
       "        <textPath xlink:href=\"#arrow-490bd08870b6446c89a2a169915e7044-0-2\" class=\"displacy-label\" startOffset=\"50%\" side=\"left\" fill=\"currentColor\" text-anchor=\"middle\">amod</textPath>\n",
       "    </text>\n",
       "    <path class=\"displacy-arrowhead\" d=\"M430,124.0 L422,112.0 438,112.0\" fill=\"currentColor\"/>\n",
       "</g>\n",
       "\n",
       "<g class=\"displacy-arrow\">\n",
       "    <path class=\"displacy-arc\" id=\"arrow-490bd08870b6446c89a2a169915e7044-0-3\" stroke-width=\"2px\" d=\"M310,122.0 C310,2.0 530.0,2.0 530.0,122.0\" fill=\"none\" stroke=\"currentColor\"/>\n",
       "    <text dy=\"1.25em\" style=\"font-size: 0.8em; letter-spacing: 1px\">\n",
       "        <textPath xlink:href=\"#arrow-490bd08870b6446c89a2a169915e7044-0-3\" class=\"displacy-label\" startOffset=\"50%\" side=\"left\" fill=\"currentColor\" text-anchor=\"middle\">dobj</textPath>\n",
       "    </text>\n",
       "    <path class=\"displacy-arrowhead\" d=\"M530.0,124.0 L538.0,112.0 522.0,112.0\" fill=\"currentColor\"/>\n",
       "</g>\n",
       "</svg></span>"
      ],
      "text/plain": [
       "<IPython.core.display.HTML object>"
      ]
     },
     "metadata": {},
     "output_type": "display_data"
    }
   ],
   "source": [
    "import spacy\n",
    "from spacy import displacy\n",
    "\n",
    "# Load the language model\n",
    "nlp = spacy.load(\"en_core_web_sm\")\n",
    "\n",
    "sentence = 'Deemed universities charge huge fees'\n",
    "\n",
    "# nlp function returns an object with individual token information, \n",
    "# linguistic features and relationships\n",
    "doc = nlp(sentence)\n",
    "\n",
    "print (\"{:<15} | {:<8} | {:<15} | {:<20}\".format('Token','Relation','Head', 'Children'))\n",
    "print (\"-\" * 70)\n",
    "\n",
    "for token in doc:\n",
    "  # Print the token, dependency nature, head and all dependents of the token\n",
    "  print (\"{:<15} | {:<8} | {:<15} | {:<20}\"\n",
    "         .format(str(token.text), str(token.dep_), str(token.head.text), str([child for child in token.children])))\n",
    "  \n",
    "# Use displayCy to visualize the dependency \n",
    "displacy.render(doc, style='dep', jupyter=True, options={'distance': 120})"
   ]
  },
  {
   "cell_type": "code",
   "execution_count": 22,
   "metadata": {},
   "outputs": [
    {
     "data": {
      "text/plain": [
       "spacy.tokens.doc.Doc"
      ]
     },
     "execution_count": 22,
     "metadata": {},
     "output_type": "execute_result"
    }
   ],
   "source": [
    "l = []\n",
    "for token in doc:\n",
    "    l.append(token)\n",
    "type(doc)"
   ]
  },
  {
   "cell_type": "code",
   "execution_count": 31,
   "metadata": {},
   "outputs": [
    {
     "data": {
      "text/html": [
       "<span class=\"tex2jax_ignore\"><svg xmlns=\"http://www.w3.org/2000/svg\" xmlns:xlink=\"http://www.w3.org/1999/xlink\" xml:lang=\"en\" id=\"0483f0bc74f342cc9a3ae4ad575afe9b-0\" class=\"displacy\" width=\"530\" height=\"257.0\" direction=\"ltr\" style=\"max-width: none; height: 257.0px; color: #000000; background: #ffffff; font-family: Arial; direction: ltr\">\n",
       "<text class=\"displacy-token\" fill=\"currentColor\" text-anchor=\"middle\" y=\"167.0\">\n",
       "    <tspan class=\"displacy-word\" fill=\"currentColor\" x=\"50\">This</tspan>\n",
       "    <tspan class=\"displacy-tag\" dy=\"2em\" fill=\"currentColor\" x=\"50\"></tspan>\n",
       "</text>\n",
       "\n",
       "<text class=\"displacy-token\" fill=\"currentColor\" text-anchor=\"middle\" y=\"167.0\">\n",
       "    <tspan class=\"displacy-word\" fill=\"currentColor\" x=\"170\">is</tspan>\n",
       "    <tspan class=\"displacy-tag\" dy=\"2em\" fill=\"currentColor\" x=\"170\"></tspan>\n",
       "</text>\n",
       "\n",
       "<text class=\"displacy-token\" fill=\"currentColor\" text-anchor=\"middle\" y=\"167.0\">\n",
       "    <tspan class=\"displacy-word\" fill=\"currentColor\" x=\"290\">a</tspan>\n",
       "    <tspan class=\"displacy-tag\" dy=\"2em\" fill=\"currentColor\" x=\"290\"></tspan>\n",
       "</text>\n",
       "\n",
       "<text class=\"displacy-token\" fill=\"currentColor\" text-anchor=\"middle\" y=\"167.0\">\n",
       "    <tspan class=\"displacy-word\" fill=\"currentColor\" x=\"410\">sentence</tspan>\n",
       "    <tspan class=\"displacy-tag\" dy=\"2em\" fill=\"currentColor\" x=\"410\"></tspan>\n",
       "</text>\n",
       "\n",
       "<g class=\"displacy-arrow\">\n",
       "    <path class=\"displacy-arc\" id=\"arrow-0483f0bc74f342cc9a3ae4ad575afe9b-0-0\" stroke-width=\"2px\" d=\"M70,122.0 C70,62.0 165.0,62.0 165.0,122.0\" fill=\"none\" stroke=\"currentColor\"/>\n",
       "    <text dy=\"1.25em\" style=\"font-size: 0.8em; letter-spacing: 1px\">\n",
       "        <textPath xlink:href=\"#arrow-0483f0bc74f342cc9a3ae4ad575afe9b-0-0\" class=\"displacy-label\" startOffset=\"50%\" side=\"left\" fill=\"currentColor\" text-anchor=\"middle\"></textPath>\n",
       "    </text>\n",
       "    <path class=\"displacy-arrowhead\" d=\"M165.0,124.0 L173.0,112.0 157.0,112.0\" fill=\"currentColor\"/>\n",
       "</g>\n",
       "\n",
       "<g class=\"displacy-arrow\">\n",
       "    <path class=\"displacy-arc\" id=\"arrow-0483f0bc74f342cc9a3ae4ad575afe9b-0-1\" stroke-width=\"2px\" d=\"M310,122.0 C310,62.0 405.0,62.0 405.0,122.0\" fill=\"none\" stroke=\"currentColor\"/>\n",
       "    <text dy=\"1.25em\" style=\"font-size: 0.8em; letter-spacing: 1px\">\n",
       "        <textPath xlink:href=\"#arrow-0483f0bc74f342cc9a3ae4ad575afe9b-0-1\" class=\"displacy-label\" startOffset=\"50%\" side=\"left\" fill=\"currentColor\" text-anchor=\"middle\"></textPath>\n",
       "    </text>\n",
       "    <path class=\"displacy-arrowhead\" d=\"M310,124.0 L302,112.0 318,112.0\" fill=\"currentColor\"/>\n",
       "</g>\n",
       "\n",
       "<g class=\"displacy-arrow\">\n",
       "    <path class=\"displacy-arc\" id=\"arrow-0483f0bc74f342cc9a3ae4ad575afe9b-0-2\" stroke-width=\"2px\" d=\"M190,122.0 C190,2.0 410.0,2.0 410.0,122.0\" fill=\"none\" stroke=\"currentColor\"/>\n",
       "    <text dy=\"1.25em\" style=\"font-size: 0.8em; letter-spacing: 1px\">\n",
       "        <textPath xlink:href=\"#arrow-0483f0bc74f342cc9a3ae4ad575afe9b-0-2\" class=\"displacy-label\" startOffset=\"50%\" side=\"left\" fill=\"currentColor\" text-anchor=\"middle\"></textPath>\n",
       "    </text>\n",
       "    <path class=\"displacy-arrowhead\" d=\"M410.0,124.0 L418.0,112.0 402.0,112.0\" fill=\"currentColor\"/>\n",
       "</g>\n",
       "</svg></span>"
      ],
      "text/plain": [
       "<IPython.core.display.HTML object>"
      ]
     },
     "metadata": {},
     "output_type": "display_data"
    }
   ],
   "source": [
    "obj = {\n",
    "    \"words\": [\n",
    "        {\"text\": \"This\", \"tag\": \"\"},\n",
    "        {\"text\": \"is\", \"tag\": \"\"},\n",
    "        {\"text\": \"a\", \"tag\": \"\"},\n",
    "        {\"text\": \"sentence\", \"tag\": \"\"}\n",
    "    ],\n",
    "    \"arcs\": [\n",
    "        {\"start\": 0, \"end\": 1, \"label\": \"\", \"dir\": \"right\"},\n",
    "        {\"start\": 2, \"end\": 3, \"label\": \"\", \"dir\": \"left\"},\n",
    "        {\"start\": 1, \"end\": 3, \"label\": \"\", \"dir\": \"right\"}\n",
    "    ]\n",
    "}\n",
    "\n",
    "displacy.render(obj, style='dep', jupyter=True, options={'distance': 120}, manual=True)"
   ]
  },
  {
   "cell_type": "code",
   "execution_count": null,
   "metadata": {},
   "outputs": [],
   "source": []
  }
 ],
 "metadata": {
  "kernelspec": {
   "display_name": "mir_research",
   "language": "python",
   "name": "python3"
  },
  "language_info": {
   "codemirror_mode": {
    "name": "ipython",
    "version": 3
   },
   "file_extension": ".py",
   "mimetype": "text/x-python",
   "name": "python",
   "nbconvert_exporter": "python",
   "pygments_lexer": "ipython3",
   "version": "3.9.16"
  },
  "orig_nbformat": 4,
  "vscode": {
   "interpreter": {
    "hash": "0ac7f40e26e886fa651cccc1d4a857e653a1eb2c9536392f90b35cea68733a2c"
   }
  }
 },
 "nbformat": 4,
 "nbformat_minor": 2
}
