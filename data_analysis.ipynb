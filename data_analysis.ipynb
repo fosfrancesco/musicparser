{
 "cells": [
  {
   "cell_type": "code",
   "execution_count": 1,
   "metadata": {},
   "outputs": [
    {
     "name": "stderr",
     "output_type": "stream",
     "text": [
      "/share/home/francesco/miniconda3/envs/musicparser/lib/python3.9/site-packages/tqdm/auto.py:22: TqdmWarning: IProgress not found. Please update jupyter and ipywidgets. See https://ipywidgets.readthedocs.io/en/stable/user_install.html\n",
      "  from .autonotebook import tqdm as notebook_tqdm\n"
     ]
    }
   ],
   "source": [
    "from musicparser.data_loading import JTBDataset, TSDataset\n",
    "import wandb\n",
    "from musicparser.data_loading import JTBDataModule\n",
    "from musicparser.models import ArcPredictionLightModel\n",
    "from musicparser.postprocessing import eisner_fast\n",
    "from pytorch_lightning import Trainer\n",
    "import os\n",
    "import torch\n",
    "import numpy as np\n",
    "from pathlib import Path\n",
    "import json\n",
    "from musicparser.data_loading import parse_jht_to_dep_tree"
   ]
  },
  {
   "cell_type": "code",
   "execution_count": 7,
   "metadata": {},
   "outputs": [
    {
     "name": "stdout",
     "output_type": "stream",
     "text": [
      "Loading data...\n"
     ]
    },
    {
     "name": "stderr",
     "output_type": "stream",
     "text": [
      "  7%|▋         | 20/300 [00:00<00:04, 69.14it/s]/share/home/francesco/musicparser/musicparser/data_loading.py:241: UserWarning: To copy construct from a tensor, it is recommended to use sourceTensor.clone().detach() or sourceTensor.clone().detach().requires_grad_(True), rather than torch.tensor(sourceTensor).\n",
      "  d_arc = torch.tensor(d_arc)\n",
      "/share/home/francesco/musicparser/musicparser/data_loading.py:241: UserWarning: To copy construct from a tensor, it is recommended to use sourceTensor.clone().detach() or sourceTensor.clone().detach().requires_grad_(True), rather than torch.tensor(sourceTensor).\n",
      "  d_arc = torch.tensor(d_arc)\n",
      "/share/home/francesco/musicparser/musicparser/data_loading.py:250: UserWarning: indexing with dtype torch.uint8 is now deprecated, please use a dtype torch.bool instead. (Triggered internally at /opt/conda/conda-bld/pytorch_1670525551200/work/aten/src/ATen/native/IndexingUtils.h:27.)\n",
      "  pot_arcs = pot_arcs[~np.logical_or(starting_rest_mask, ending_rest_mask)]\n",
      "/share/home/francesco/musicparser/musicparser/data_loading.py:250: UserWarning: indexing with dtype torch.uint8 is now deprecated, please use a dtype torch.bool instead. (Triggered internally at /opt/conda/conda-bld/pytorch_1670525551200/work/aten/src/ATen/native/IndexingUtils.h:27.)\n",
      "  pot_arcs = pot_arcs[~np.logical_or(starting_rest_mask, ending_rest_mask)]\n",
      "/share/home/francesco/musicparser/musicparser/data_loading.py:241: UserWarning: To copy construct from a tensor, it is recommended to use sourceTensor.clone().detach() or sourceTensor.clone().detach().requires_grad_(True), rather than torch.tensor(sourceTensor).\n",
      "  d_arc = torch.tensor(d_arc)\n",
      "/share/home/francesco/musicparser/musicparser/data_loading.py:250: UserWarning: indexing with dtype torch.uint8 is now deprecated, please use a dtype torch.bool instead. (Triggered internally at /opt/conda/conda-bld/pytorch_1670525551200/work/aten/src/ATen/native/IndexingUtils.h:27.)\n",
      "  pot_arcs = pot_arcs[~np.logical_or(starting_rest_mask, ending_rest_mask)]\n",
      "/share/home/francesco/musicparser/musicparser/data_loading.py:241: UserWarning: To copy construct from a tensor, it is recommended to use sourceTensor.clone().detach() or sourceTensor.clone().detach().requires_grad_(True), rather than torch.tensor(sourceTensor).\n",
      "  d_arc = torch.tensor(d_arc)\n",
      " 13%|█▎        | 40/300 [00:14<01:50,  2.36it/s]/share/home/francesco/musicparser/musicparser/data_loading.py:250: UserWarning: indexing with dtype torch.uint8 is now deprecated, please use a dtype torch.bool instead. (Triggered internally at /opt/conda/conda-bld/pytorch_1670525551200/work/aten/src/ATen/native/IndexingUtils.h:27.)\n",
      "  pot_arcs = pot_arcs[~np.logical_or(starting_rest_mask, ending_rest_mask)]\n",
      "/share/home/francesco/musicparser/musicparser/data_loading.py:241: UserWarning: To copy construct from a tensor, it is recommended to use sourceTensor.clone().detach() or sourceTensor.clone().detach().requires_grad_(True), rather than torch.tensor(sourceTensor).\n",
      "  d_arc = torch.tensor(d_arc)\n",
      "/share/home/francesco/musicparser/musicparser/data_loading.py:241: UserWarning: To copy construct from a tensor, it is recommended to use sourceTensor.clone().detach() or sourceTensor.clone().detach().requires_grad_(True), rather than torch.tensor(sourceTensor).\n",
      "  d_arc = torch.tensor(d_arc)\n",
      "/share/home/francesco/musicparser/musicparser/data_loading.py:241: UserWarning: To copy construct from a tensor, it is recommended to use sourceTensor.clone().detach() or sourceTensor.clone().detach().requires_grad_(True), rather than torch.tensor(sourceTensor).\n",
      "  d_arc = torch.tensor(d_arc)\n",
      "/share/home/francesco/musicparser/musicparser/data_loading.py:250: UserWarning: indexing with dtype torch.uint8 is now deprecated, please use a dtype torch.bool instead. (Triggered internally at /opt/conda/conda-bld/pytorch_1670525551200/work/aten/src/ATen/native/IndexingUtils.h:27.)\n",
      "  pot_arcs = pot_arcs[~np.logical_or(starting_rest_mask, ending_rest_mask)]\n",
      "/share/home/francesco/musicparser/musicparser/data_loading.py:250: UserWarning: indexing with dtype torch.uint8 is now deprecated, please use a dtype torch.bool instead. (Triggered internally at /opt/conda/conda-bld/pytorch_1670525551200/work/aten/src/ATen/native/IndexingUtils.h:27.)\n",
      "  pot_arcs = pot_arcs[~np.logical_or(starting_rest_mask, ending_rest_mask)]\n",
      "/share/home/francesco/musicparser/musicparser/data_loading.py:250: UserWarning: indexing with dtype torch.uint8 is now deprecated, please use a dtype torch.bool instead. (Triggered internally at /opt/conda/conda-bld/pytorch_1670525551200/work/aten/src/ATen/native/IndexingUtils.h:27.)\n",
      "  pot_arcs = pot_arcs[~np.logical_or(starting_rest_mask, ending_rest_mask)]\n",
      "/share/home/francesco/musicparser/musicparser/data_loading.py:241: UserWarning: To copy construct from a tensor, it is recommended to use sourceTensor.clone().detach() or sourceTensor.clone().detach().requires_grad_(True), rather than torch.tensor(sourceTensor).\n",
      "  d_arc = torch.tensor(d_arc)\n",
      "/share/home/francesco/musicparser/musicparser/data_loading.py:241: UserWarning: To copy construct from a tensor, it is recommended to use sourceTensor.clone().detach() or sourceTensor.clone().detach().requires_grad_(True), rather than torch.tensor(sourceTensor).\n",
      "  d_arc = torch.tensor(d_arc)\n",
      "/share/home/francesco/musicparser/musicparser/data_loading.py:250: UserWarning: indexing with dtype torch.uint8 is now deprecated, please use a dtype torch.bool instead. (Triggered internally at /opt/conda/conda-bld/pytorch_1670525551200/work/aten/src/ATen/native/IndexingUtils.h:27.)\n",
      "  pot_arcs = pot_arcs[~np.logical_or(starting_rest_mask, ending_rest_mask)]\n",
      "/share/home/francesco/musicparser/musicparser/data_loading.py:241: UserWarning: To copy construct from a tensor, it is recommended to use sourceTensor.clone().detach() or sourceTensor.clone().detach().requires_grad_(True), rather than torch.tensor(sourceTensor).\n",
      "  d_arc = torch.tensor(d_arc)\n",
      "/share/home/francesco/musicparser/musicparser/data_loading.py:241: UserWarning: To copy construct from a tensor, it is recommended to use sourceTensor.clone().detach() or sourceTensor.clone().detach().requires_grad_(True), rather than torch.tensor(sourceTensor).\n",
      "  d_arc = torch.tensor(d_arc)\n",
      "/share/home/francesco/musicparser/musicparser/data_loading.py:250: UserWarning: indexing with dtype torch.uint8 is now deprecated, please use a dtype torch.bool instead. (Triggered internally at /opt/conda/conda-bld/pytorch_1670525551200/work/aten/src/ATen/native/IndexingUtils.h:27.)\n",
      "  pot_arcs = pot_arcs[~np.logical_or(starting_rest_mask, ending_rest_mask)]\n",
      "/share/home/francesco/musicparser/musicparser/data_loading.py:241: UserWarning: To copy construct from a tensor, it is recommended to use sourceTensor.clone().detach() or sourceTensor.clone().detach().requires_grad_(True), rather than torch.tensor(sourceTensor).\n",
      "  d_arc = torch.tensor(d_arc)\n",
      "/share/home/francesco/musicparser/musicparser/data_loading.py:250: UserWarning: indexing with dtype torch.uint8 is now deprecated, please use a dtype torch.bool instead. (Triggered internally at /opt/conda/conda-bld/pytorch_1670525551200/work/aten/src/ATen/native/IndexingUtils.h:27.)\n",
      "  pot_arcs = pot_arcs[~np.logical_or(starting_rest_mask, ending_rest_mask)]\n",
      "/share/home/francesco/musicparser/musicparser/data_loading.py:250: UserWarning: indexing with dtype torch.uint8 is now deprecated, please use a dtype torch.bool instead. (Triggered internally at /opt/conda/conda-bld/pytorch_1670525551200/work/aten/src/ATen/native/IndexingUtils.h:27.)\n",
      "  pot_arcs = pot_arcs[~np.logical_or(starting_rest_mask, ending_rest_mask)]\n",
      "/share/home/francesco/musicparser/musicparser/data_loading.py:250: UserWarning: indexing with dtype torch.uint8 is now deprecated, please use a dtype torch.bool instead. (Triggered internally at /opt/conda/conda-bld/pytorch_1670525551200/work/aten/src/ATen/native/IndexingUtils.h:27.)\n",
      "  pot_arcs = pot_arcs[~np.logical_or(starting_rest_mask, ending_rest_mask)]\n",
      "/share/home/francesco/musicparser/musicparser/data_loading.py:241: UserWarning: To copy construct from a tensor, it is recommended to use sourceTensor.clone().detach() or sourceTensor.clone().detach().requires_grad_(True), rather than torch.tensor(sourceTensor).\n",
      "  d_arc = torch.tensor(d_arc)\n",
      "/share/home/francesco/musicparser/musicparser/data_loading.py:241: UserWarning: To copy construct from a tensor, it is recommended to use sourceTensor.clone().detach() or sourceTensor.clone().detach().requires_grad_(True), rather than torch.tensor(sourceTensor).\n",
      "  d_arc = torch.tensor(d_arc)\n",
      "/share/home/francesco/musicparser/musicparser/data_loading.py:250: UserWarning: indexing with dtype torch.uint8 is now deprecated, please use a dtype torch.bool instead. (Triggered internally at /opt/conda/conda-bld/pytorch_1670525551200/work/aten/src/ATen/native/IndexingUtils.h:27.)\n",
      "  pot_arcs = pot_arcs[~np.logical_or(starting_rest_mask, ending_rest_mask)]\n",
      "/share/home/francesco/musicparser/musicparser/data_loading.py:250: UserWarning: indexing with dtype torch.uint8 is now deprecated, please use a dtype torch.bool instead. (Triggered internally at /opt/conda/conda-bld/pytorch_1670525551200/work/aten/src/ATen/native/IndexingUtils.h:27.)\n",
      "  pot_arcs = pot_arcs[~np.logical_or(starting_rest_mask, ending_rest_mask)]\n",
      "/share/home/francesco/musicparser/musicparser/data_loading.py:241: UserWarning: To copy construct from a tensor, it is recommended to use sourceTensor.clone().detach() or sourceTensor.clone().detach().requires_grad_(True), rather than torch.tensor(sourceTensor).\n",
      "  d_arc = torch.tensor(d_arc)\n",
      "/share/home/francesco/musicparser/musicparser/data_loading.py:241: UserWarning: To copy construct from a tensor, it is recommended to use sourceTensor.clone().detach() or sourceTensor.clone().detach().requires_grad_(True), rather than torch.tensor(sourceTensor).\n",
      "  d_arc = torch.tensor(d_arc)\n",
      "/share/home/francesco/musicparser/musicparser/data_loading.py:241: UserWarning: To copy construct from a tensor, it is recommended to use sourceTensor.clone().detach() or sourceTensor.clone().detach().requires_grad_(True), rather than torch.tensor(sourceTensor).\n",
      "  d_arc = torch.tensor(d_arc)\n",
      "/share/home/francesco/musicparser/musicparser/data_loading.py:250: UserWarning: indexing with dtype torch.uint8 is now deprecated, please use a dtype torch.bool instead. (Triggered internally at /opt/conda/conda-bld/pytorch_1670525551200/work/aten/src/ATen/native/IndexingUtils.h:27.)\n",
      "  pot_arcs = pot_arcs[~np.logical_or(starting_rest_mask, ending_rest_mask)]\n",
      "/share/home/francesco/musicparser/musicparser/data_loading.py:241: UserWarning: To copy construct from a tensor, it is recommended to use sourceTensor.clone().detach() or sourceTensor.clone().detach().requires_grad_(True), rather than torch.tensor(sourceTensor).\n",
      "  d_arc = torch.tensor(d_arc)\n",
      "/share/home/francesco/musicparser/musicparser/data_loading.py:241: UserWarning: To copy construct from a tensor, it is recommended to use sourceTensor.clone().detach() or sourceTensor.clone().detach().requires_grad_(True), rather than torch.tensor(sourceTensor).\n",
      "  d_arc = torch.tensor(d_arc)\n",
      "/share/home/francesco/musicparser/musicparser/data_loading.py:250: UserWarning: indexing with dtype torch.uint8 is now deprecated, please use a dtype torch.bool instead. (Triggered internally at /opt/conda/conda-bld/pytorch_1670525551200/work/aten/src/ATen/native/IndexingUtils.h:27.)\n",
      "  pot_arcs = pot_arcs[~np.logical_or(starting_rest_mask, ending_rest_mask)]\n",
      "/share/home/francesco/musicparser/musicparser/data_loading.py:250: UserWarning: indexing with dtype torch.uint8 is now deprecated, please use a dtype torch.bool instead. (Triggered internally at /opt/conda/conda-bld/pytorch_1670525551200/work/aten/src/ATen/native/IndexingUtils.h:27.)\n",
      "  pot_arcs = pot_arcs[~np.logical_or(starting_rest_mask, ending_rest_mask)]\n",
      "/share/home/francesco/musicparser/musicparser/data_loading.py:250: UserWarning: indexing with dtype torch.uint8 is now deprecated, please use a dtype torch.bool instead. (Triggered internally at /opt/conda/conda-bld/pytorch_1670525551200/work/aten/src/ATen/native/IndexingUtils.h:27.)\n",
      "  pot_arcs = pot_arcs[~np.logical_or(starting_rest_mask, ending_rest_mask)]\n",
      "/share/home/francesco/musicparser/musicparser/data_loading.py:241: UserWarning: To copy construct from a tensor, it is recommended to use sourceTensor.clone().detach() or sourceTensor.clone().detach().requires_grad_(True), rather than torch.tensor(sourceTensor).\n",
      "  d_arc = torch.tensor(d_arc)\n",
      "/share/home/francesco/musicparser/musicparser/data_loading.py:250: UserWarning: indexing with dtype torch.uint8 is now deprecated, please use a dtype torch.bool instead. (Triggered internally at /opt/conda/conda-bld/pytorch_1670525551200/work/aten/src/ATen/native/IndexingUtils.h:27.)\n",
      "  pot_arcs = pot_arcs[~np.logical_or(starting_rest_mask, ending_rest_mask)]\n",
      "/share/home/francesco/musicparser/musicparser/data_loading.py:250: UserWarning: indexing with dtype torch.uint8 is now deprecated, please use a dtype torch.bool instead. (Triggered internally at /opt/conda/conda-bld/pytorch_1670525551200/work/aten/src/ATen/native/IndexingUtils.h:27.)\n",
      "  pot_arcs = pot_arcs[~np.logical_or(starting_rest_mask, ending_rest_mask)]\n",
      " 20%|██        | 60/300 [00:14<00:56,  4.25it/s]/share/home/francesco/miniconda3/envs/musicparser/lib/python3.9/site-packages/partitura/directions.py:533: UserWarning: error parsing \"sentito\" (UnexpectedCharacters)\n",
      "  warnings.warn('error parsing \"{}\" ({})'.format(string, type(e).__name__))\n",
      "/share/home/francesco/miniconda3/envs/musicparser/lib/python3.9/site-packages/partitura/directions.py:533: UserWarning: error parsing \"Largamente\" (UnexpectedCharacters)\n",
      "  warnings.warn('error parsing \"{}\" ({})'.format(string, type(e).__name__))\n",
      " 27%|██▋       | 80/300 [00:14<00:31,  6.91it/s]/share/home/francesco/miniconda3/envs/musicparser/lib/python3.9/site-packages/partitura/directions.py:533: UserWarning: error parsing \"cresc.  -   -   -  \" (UnexpectedCharacters)\n",
      "  warnings.warn('error parsing \"{}\" ({})'.format(string, type(e).__name__))\n",
      "/share/home/francesco/miniconda3/envs/musicparser/lib/python3.9/site-packages/partitura/directions.py:533: UserWarning: error parsing \"cre    -     -     -     scen     -    -    -     do\" (UnexpectedCharacters)\n",
      "  warnings.warn('error parsing \"{}\" ({})'.format(string, type(e).__name__))\n",
      "/share/home/francesco/miniconda3/envs/musicparser/lib/python3.9/site-packages/partitura/io/importmusicxml.py:871: UserWarning: ignoring direction type: octave-shift {'default-y': '33', 'size': '8', 'type': 'down'}\n",
      "  warnings.warn(\"ignoring direction type: {} {}\".format(dt.tag, dt.attrib))\n",
      "/share/home/francesco/miniconda3/envs/musicparser/lib/python3.9/site-packages/partitura/io/importmusicxml.py:871: UserWarning: ignoring direction type: octave-shift {'size': '8', 'type': 'stop'}\n",
      "  warnings.warn(\"ignoring direction type: {} {}\".format(dt.tag, dt.attrib))\n",
      " 40%|████      | 120/300 [00:15<00:12, 14.23it/s]/share/home/francesco/miniconda3/envs/musicparser/lib/python3.9/site-packages/partitura/io/importmusicxml.py:871: UserWarning: ignoring direction type: octave-shift {'default-y': '48', 'size': '8', 'type': 'down'}\n",
      "  warnings.warn(\"ignoring direction type: {} {}\".format(dt.tag, dt.attrib))\n",
      "/share/home/francesco/miniconda3/envs/musicparser/lib/python3.9/site-packages/partitura/io/importmusicxml.py:871: UserWarning: ignoring direction type: octave-shift {'size': '8', 'type': 'stop'}\n",
      "  warnings.warn(\"ignoring direction type: {} {}\".format(dt.tag, dt.attrib))\n",
      "/share/home/francesco/miniconda3/envs/musicparser/lib/python3.9/site-packages/partitura/io/importmusicxml.py:871: UserWarning: ignoring direction type: bracket {'default-y': '52', 'line-end': 'down', 'line-type': 'dashed', 'number': '1', 'type': 'start'}\n",
      "  warnings.warn(\"ignoring direction type: {} {}\".format(dt.tag, dt.attrib))\n"
     ]
    },
    {
     "name": "stdout",
     "output_type": "stream",
     "text": [
      "Trying to solve first measure error in:  data/gttm/154/TS.xml\n",
      "Trying to solve first measure error in:  data/gttm/169/TS.xml\n",
      "!!!!! Error with 169_unknown.txt Can't assign ids in: data/gttm/169/TS.xml, error: index 3 is out of bounds for axis 0 with size 3\n",
      "!!!!! Error with 154_unknown.txt Can't assign ids in: data/gttm/154/TS.xml, error: index 6 is out of bounds for axis 0 with size 6\n"
     ]
    },
    {
     "name": "stderr",
     "output_type": "stream",
     "text": [
      "/share/home/francesco/miniconda3/envs/musicparser/lib/python3.9/site-packages/partitura/io/importmusicxml.py:871: UserWarning: ignoring direction type: bracket {'line-end': 'down', 'number': '1', 'type': 'stop'}\n",
      "  warnings.warn(\"ignoring direction type: {} {}\".format(dt.tag, dt.attrib))\n",
      "/share/home/francesco/miniconda3/envs/musicparser/lib/python3.9/site-packages/partitura/directions.py:533: UserWarning: error parsing \"contabile ed espressivo\" (UnexpectedCharacters)\n",
      "  warnings.warn('error parsing \"{}\" ({})'.format(string, type(e).__name__))\n",
      "/share/home/francesco/miniconda3/envs/musicparser/lib/python3.9/site-packages/partitura/directions.py:533: UserWarning: error parsing \"poco riten.\" (UnexpectedCharacters)\n",
      "  warnings.warn('error parsing \"{}\" ({})'.format(string, type(e).__name__))\n",
      "/share/home/francesco/miniconda3/envs/musicparser/lib/python3.9/site-packages/partitura/directions.py:533: UserWarning: error parsing \"poco rit    -   -   -   -   -    -   -    -  \" (UnexpectedCharacters)\n",
      "  warnings.warn('error parsing \"{}\" ({})'.format(string, type(e).__name__))\n",
      " 67%|██████▋   | 200/300 [00:15<00:02, 33.70it/s]/share/home/francesco/miniconda3/envs/musicparser/lib/python3.9/site-packages/partitura/directions.py:533: UserWarning: error parsing \"dolce.\" (UnexpectedCharacters)\n",
      "  warnings.warn('error parsing \"{}\" ({})'.format(string, type(e).__name__))\n",
      "/share/home/francesco/miniconda3/envs/musicparser/lib/python3.9/site-packages/partitura/directions.py:533: UserWarning: error parsing \"dolce ma intenso\" (UnexpectedCharacters)\n",
      "  warnings.warn('error parsing \"{}\" ({})'.format(string, type(e).__name__))\n",
      "/share/home/francesco/miniconda3/envs/musicparser/lib/python3.9/site-packages/partitura/directions.py:533: UserWarning: error parsing \"rall. .\" (UnexpectedCharacters)\n",
      "  warnings.warn('error parsing \"{}\" ({})'.format(string, type(e).__name__))\n",
      "/share/home/francesco/miniconda3/envs/musicparser/lib/python3.9/site-packages/partitura/directions.py:533: UserWarning: error parsing \"con semplicita\" (UnexpectedCharacters)\n",
      "  warnings.warn('error parsing \"{}\" ({})'.format(string, type(e).__name__))\n",
      "/share/home/francesco/miniconda3/envs/musicparser/lib/python3.9/site-packages/partitura/directions.py:533: UserWarning: error parsing \"un poco cedendo\" (UnexpectedCharacters)\n",
      "  warnings.warn('error parsing \"{}\" ({})'.format(string, type(e).__name__))\n",
      " 80%|████████  | 240/300 [00:15<00:01, 45.79it/s]/share/home/francesco/miniconda3/envs/musicparser/lib/python3.9/site-packages/partitura/directions.py:533: UserWarning: error parsing \"delcissimo\" (UnexpectedCharacters)\n",
      "  warnings.warn('error parsing \"{}\" ({})'.format(string, type(e).__name__))\n",
      "/share/home/francesco/miniconda3/envs/musicparser/lib/python3.9/site-packages/partitura/directions.py:533: UserWarning: error parsing \"express.\" (UnexpectedCharacters)\n",
      "  warnings.warn('error parsing \"{}\" ({})'.format(string, type(e).__name__))\n",
      "/share/home/francesco/miniconda3/envs/musicparser/lib/python3.9/site-packages/partitura/directions.py:533: UserWarning: error parsing \"poco allarg.\" (UnexpectedCharacters)\n",
      "  warnings.warn('error parsing \"{}\" ({})'.format(string, type(e).__name__))\n",
      "/share/home/francesco/miniconda3/envs/musicparser/lib/python3.9/site-packages/partitura/directions.py:533: UserWarning: error parsing \"dol.\" (UnexpectedCharacters)\n",
      "  warnings.warn('error parsing \"{}\" ({})'.format(string, type(e).__name__))\n",
      "/share/home/francesco/miniconda3/envs/musicparser/lib/python3.9/site-packages/partitura/directions.py:533: UserWarning: error parsing \"poco a poco\" (UnexpectedEOF)\n",
      "  warnings.warn('error parsing \"{}\" ({})'.format(string, type(e).__name__))\n",
      "/share/home/francesco/miniconda3/envs/musicparser/lib/python3.9/site-packages/partitura/directions.py:533: UserWarning: error parsing \"express. dolce\" (UnexpectedCharacters)\n",
      "  warnings.warn('error parsing \"{}\" ({})'.format(string, type(e).__name__))\n",
      "100%|██████████| 300/300 [00:15<00:00, 19.31it/s]\n"
     ]
    },
    {
     "name": "stdout",
     "output_type": "stream",
     "text": [
      "Trying to solve first measure error in:  data/gttm/280/TS.xml\n",
      "Trying to solve first measure error in:  data/gttm/291/TS.xml\n",
      "!!!!! Error with 291_unknown.txt Can't assign ids in: data/gttm/291/TS.xml, error: Trying to build an arc from a rest\n",
      "Trying to solve first measure error in:  data/gttm/288/TS.xml\n",
      "!!!!! Error with 288_unknown.txt Can't assign ids in: data/gttm/288/TS.xml, error: Trying to build an arc from a rest\n",
      "Trying to solve first measure error in:  data/gttm/283/TS.xml\n",
      "Trying to solve first measure error in:  data/gttm/285/TS.xml\n",
      "Trying to solve first measure error in:  data/gttm/276/TS.xml\n",
      "Trying to solve first measure error in:  data/gttm/278/TS.xml\n"
     ]
    },
    {
     "name": "stderr",
     "output_type": "stream",
     "text": [
      "/share/home/francesco/miniconda3/envs/musicparser/lib/python3.9/site-packages/partitura/io/importmusicxml.py:871: UserWarning: ignoring direction type: octave-shift {'default-y': '22', 'size': '8', 'type': 'down'}\n",
      "  warnings.warn(\"ignoring direction type: {} {}\".format(dt.tag, dt.attrib))\n",
      "/share/home/francesco/miniconda3/envs/musicparser/lib/python3.9/site-packages/partitura/io/importmusicxml.py:871: UserWarning: ignoring direction type: octave-shift {'size': '8', 'type': 'stop'}\n",
      "  warnings.warn(\"ignoring direction type: {} {}\".format(dt.tag, dt.attrib))\n"
     ]
    },
    {
     "name": "stdout",
     "output_type": "stream",
     "text": [
      "Removed 4 scores due to errors\n"
     ]
    }
   ],
   "source": [
    "dataset = TSDataset(\n",
    "            Path(\"data/gttm\"),\n",
    "            will_use_embeddings=True,\n",
    "            data_augmentation=\"no\",\n",
    "            n_jobs=20,\n",
    "        )"
   ]
  },
  {
   "cell_type": "code",
   "execution_count": 15,
   "metadata": {},
   "outputs": [],
   "source": [
    "import pandas as pd\n",
    "\n",
    "scores = dataset.score_files\n",
    "folders = [Path(score).parent for score in scores]\n",
    "titles = []\n",
    "for fold in folders:\n",
    "    # find the file that end with txt\n",
    "    txt_file = [x for x in fold.iterdir() if x.suffix == \".txt\"]\n",
    "    assert len(txt_file) == 1\n",
    "    # append the name of the file as title\n",
    "    titles.append(txt_file[0].stem)\n",
    "\n",
    "note_features = dataset.note_features\n",
    "df = pd.DataFrame({\n",
    "    \"len\": [len(c) for c in note_features],\n",
    "    \"titles\": titles,\n",
    "    })\n",
    "\n",
    "df.to_csv(\"len.csv\")"
   ]
  },
  {
   "cell_type": "code",
   "execution_count": 16,
   "metadata": {},
   "outputs": [
    {
     "data": {
      "text/html": [
       "<div>\n",
       "<style scoped>\n",
       "    .dataframe tbody tr th:only-of-type {\n",
       "        vertical-align: middle;\n",
       "    }\n",
       "\n",
       "    .dataframe tbody tr th {\n",
       "        vertical-align: top;\n",
       "    }\n",
       "\n",
       "    .dataframe thead th {\n",
       "        text-align: right;\n",
       "    }\n",
       "</style>\n",
       "<table border=\"1\" class=\"dataframe\">\n",
       "  <thead>\n",
       "    <tr style=\"text-align: right;\">\n",
       "      <th></th>\n",
       "      <th>len</th>\n",
       "      <th>titles</th>\n",
       "    </tr>\n",
       "  </thead>\n",
       "  <tbody>\n",
       "    <tr>\n",
       "      <th>0</th>\n",
       "      <td>28</td>\n",
       "      <td>01_Waltz in E flat Grande Valse Brillante Op.18</td>\n",
       "    </tr>\n",
       "    <tr>\n",
       "      <th>1</th>\n",
       "      <td>33</td>\n",
       "      <td>02_Moments Musicaux</td>\n",
       "    </tr>\n",
       "    <tr>\n",
       "      <th>2</th>\n",
       "      <td>40</td>\n",
       "      <td>03_Bagatelle 'Fur Elise' WoO.59</td>\n",
       "    </tr>\n",
       "    <tr>\n",
       "      <th>3</th>\n",
       "      <td>33</td>\n",
       "      <td>04_The Preludes Op.28 No.15</td>\n",
       "    </tr>\n",
       "    <tr>\n",
       "      <th>4</th>\n",
       "      <td>34</td>\n",
       "      <td>05_Turkish March</td>\n",
       "    </tr>\n",
       "    <tr>\n",
       "      <th>...</th>\n",
       "      <td>...</td>\n",
       "      <td>...</td>\n",
       "    </tr>\n",
       "    <tr>\n",
       "      <th>291</th>\n",
       "      <td>16</td>\n",
       "      <td>95_12 Variationen uber ein franzosisches Lied ...</td>\n",
       "    </tr>\n",
       "    <tr>\n",
       "      <th>292</th>\n",
       "      <td>27</td>\n",
       "      <td>96_Lieder ohne Worte Heft 5 Op.62-6 Fruhlingslied</td>\n",
       "    </tr>\n",
       "    <tr>\n",
       "      <th>293</th>\n",
       "      <td>17</td>\n",
       "      <td>97_Les Patineurs Op.183</td>\n",
       "    </tr>\n",
       "    <tr>\n",
       "      <th>294</th>\n",
       "      <td>23</td>\n",
       "      <td>98_Sonate fur Klavier Nr.8 c moll Pathetique O...</td>\n",
       "    </tr>\n",
       "    <tr>\n",
       "      <th>295</th>\n",
       "      <td>29</td>\n",
       "      <td>99_3 Valses No.7 Op.64-2 cis moll</td>\n",
       "    </tr>\n",
       "  </tbody>\n",
       "</table>\n",
       "<p>296 rows × 2 columns</p>\n",
       "</div>"
      ],
      "text/plain": [
       "     len                                             titles\n",
       "0     28    01_Waltz in E flat Grande Valse Brillante Op.18\n",
       "1     33                                02_Moments Musicaux\n",
       "2     40                    03_Bagatelle 'Fur Elise' WoO.59\n",
       "3     33                        04_The Preludes Op.28 No.15\n",
       "4     34                                   05_Turkish March\n",
       "..   ...                                                ...\n",
       "291   16  95_12 Variationen uber ein franzosisches Lied ...\n",
       "292   27  96_Lieder ohne Worte Heft 5 Op.62-6 Fruhlingslied\n",
       "293   17                            97_Les Patineurs Op.183\n",
       "294   23  98_Sonate fur Klavier Nr.8 c moll Pathetique O...\n",
       "295   29                  99_3 Valses No.7 Op.64-2 cis moll\n",
       "\n",
       "[296 rows x 2 columns]"
      ]
     },
     "execution_count": 16,
     "metadata": {},
     "output_type": "execute_result"
    }
   ],
   "source": [
    "df"
   ]
  },
  {
   "cell_type": "code",
   "execution_count": 4,
   "metadata": {},
   "outputs": [
    {
     "data": {
      "text/plain": [
       "(16, 5)"
      ]
     },
     "execution_count": 4,
     "metadata": {},
     "output_type": "execute_result"
    }
   ],
   "source": [
    "dataset.chords_features[8].shape"
   ]
  },
  {
   "cell_type": "code",
   "execution_count": 5,
   "metadata": {},
   "outputs": [],
   "source": [
    "# run = wandb.init()\n",
    "# artifact = run.use_artifact('fosfrancesco/loo_JTB/model-go1417zv:v0', type='model')\n",
    "# artifact_dir = artifact.download()\n",
    "\n",
    "artifact_dir = \"artifacts/model-go1417zv:v0\""
   ]
  },
  {
   "cell_type": "code",
   "execution_count": 45,
   "metadata": {},
   "outputs": [
    {
     "name": "stdout",
     "output_type": "stream",
     "text": [
      "Loading complete tree data...\n",
      "Done loading data. 0 out of 150 pieces were discarded because of errors.\n",
      "Augmenting data...\n",
      "Augmenting data...\n",
      "Train size :1788, Val size :1, Test size :1\n",
      "No pretraining data\n"
     ]
    },
    {
     "name": "stderr",
     "output_type": "stream",
     "text": [
      "GPU available: True (cuda), used: True\n",
      "TPU available: False, using: 0 TPU cores\n",
      "IPU available: False, using: 0 IPUs\n",
      "HPU available: False, using: 0 HPUs\n",
      "LOCAL_RANK: 0 - CUDA_VISIBLE_DEVICES: [0,1,2,3]\n",
      "/share/home/francesco/miniconda3/envs/musicparser/lib/python3.9/site-packages/pytorch_lightning/trainer/connectors/data_connector.py:224: PossibleUserWarning: The dataloader, predict_dataloader 0, does not have many workers which may be a bottleneck. Consider increasing the value of the `num_workers` argument` (try 40 which is the number of cpus on this machine) in the `DataLoader` init to improve performance.\n",
      "  rank_zero_warn(\n"
     ]
    },
    {
     "name": "stdout",
     "output_type": "stream",
     "text": [
      "Predicting: 0it [00:00, ?it/s]"
     ]
    }
   ],
   "source": [
    "datamodule = JTBDataModule(batch_size=1, num_workers=1, data_augmentation=\"preprocess\", only_tree=True, loo_index=8)\n",
    "datamodule.setup()\n",
    "model = ArcPredictionLightModel.load_from_checkpoint(checkpoint_path=os.path.join(os.path.normpath(artifact_dir), \"model.ckpt\"))\n",
    "\n",
    "wandb_logger = True\n",
    "\n",
    "trainer = Trainer(\n",
    "    max_epochs=60, accelerator=\"auto\", devices= [0], #strategy=\"ddp\",\n",
    "    num_sanity_val_steps=1,\n",
    "    logger=wandb_logger,\n",
    "    deterministic=True\n",
    "    )\n",
    "\n",
    "# trainer.tune(model, datamodule=datamodule)\n",
    "# print(\"LR set to\", model.lr)\n",
    "out_dict= trainer.predict(model, dataloaders=datamodule.test_dataloader())[0]"
   ]
  },
  {
   "cell_type": "code",
   "execution_count": 20,
   "metadata": {},
   "outputs": [],
   "source": [
    "import pandas as pd \n",
    "import wandb\n",
    "api = wandb.Api()\n",
    "\n",
    "# Project is specified by <entity/project-name>\n",
    "runs = api.runs(path = \"fosfrancesco/sweeps_JTB\")\n",
    "# filters={\"config.group\": \"LOO1\"}\n",
    "\n",
    "summary_list, config_list, name_list = [], [], []\n",
    "for run in runs: \n",
    "    # .summary contains the output keys/values for metrics like accuracy.\n",
    "    #  We call ._json_dict to omit large files\n",
    "    summary_list.append(run.summary._json_dict)\n",
    "\n",
    "    # .config contains the hyperparameters.\n",
    "    #  We remove special values that start with _.\n",
    "    config_list.append(\n",
    "        {k: v for k,v in run.config.items()\n",
    "        if not k.startswith('_')})\n",
    "\n",
    "    # .name is the human-readable name of the run.\n",
    "    name_list.append(run.name)\n",
    "    \n",
    "\n",
    "runs_df = pd.DataFrame({\n",
    "    \"summary\": summary_list,\n",
    "    \"config\": config_list,\n",
    "    \"name\": name_list\n",
    "    })\n",
    "\n",
    "runs_df.to_csv(\"project.csv\")"
   ]
  },
  {
   "cell_type": "code",
   "execution_count": 23,
   "metadata": {},
   "outputs": [
    {
     "data": {
      "text/plain": [
       "{'epoch': 60,\n",
       " 'test_ctrees': {'_type': 'table-file',\n",
       "  'ncols': 2,\n",
       "  'nrows': 1,\n",
       "  'sha256': '742bb1ea839f0cbf52ed9e8245bd0aee409171d7d56846f84a472d6e7c9e0f7a',\n",
       "  'artifact_path': 'wandb-client-artifact://4t2m2q1w42c5ysyv54wvg6hgzio2qremiq7s3x0hxvl6kz4e8roq4k8r253fs7lkske93db6f8fxtciajt8bdco308spxr1609o6or38nvljnc5r77tb8c117zvc0xk1:latest/test_ctrees.table.json',\n",
       "  '_latest_artifact_path': 'wandb-client-artifact://4t2m2q1w42c5ysyv54wvg6hgzio2qremiq7s3x0hxvl6kz4e8roq4k8r253fs7lkske93db6f8fxtciajt8bdco308spxr1609o6or38nvljnc5r77tb8c117zvc0xk1:latest/test_ctrees.table.json',\n",
       "  'path': 'media/table/test_ctrees_4533_742bb1ea839f0cbf52ed.table.json',\n",
       "  'size': 492},\n",
       " 'test_head_seqs': {'ncols': 3,\n",
       "  'nrows': 1,\n",
       "  'sha256': '6a1fc272f7dbcc0fe8e7160f40c12d3dca28ad7dcdd539cbd595a1fc16619f30',\n",
       "  'artifact_path': 'wandb-client-artifact://4v642fo375lygoqegmzd80oe7vbb6dntzxpad1m6nrwyj33ydkxw2dspvptp6wpjf4d78j3j2mnzs6rqoeiykj1m59qzgyetph63ymkgjp0wi62z9s3owwp35wmb6rmb:latest/test_head_seqs.table.json',\n",
       "  '_latest_artifact_path': 'wandb-client-artifact://4v642fo375lygoqegmzd80oe7vbb6dntzxpad1m6nrwyj33ydkxw2dspvptp6wpjf4d78j3j2mnzs6rqoeiykj1m59qzgyetph63ymkgjp0wi62z9s3owwp35wmb6rmb:latest/test_head_seqs.table.json',\n",
       "  'path': 'media/table/test_head_seqs_4532_6a1fc272f7dbcc0fe8e7.table.json',\n",
       "  'size': 528,\n",
       "  '_type': 'table-file'},\n",
       " 'val_arc_accuracy_postp': 0.6756756901741028,\n",
       " 'ctrees': {'_latest_artifact_path': 'wandb-client-artifact://qnu98flru9l3q6uz03ei3af51f7fayv774d77bgk8tx0opjxxfu0vh28d2kvxpinepkpzcuvmgxs48c31xs4wedjzw5o9lcvkdn6fjxjlfzcfbn7n0pr73eac64prc0w:latest/ctrees.table.json',\n",
       "  'path': 'media/table/ctrees_4529_742bb1ea839f0cbf52ed.table.json',\n",
       "  'size': 492,\n",
       "  '_type': 'table-file',\n",
       "  'ncols': 2,\n",
       "  'nrows': 1,\n",
       "  'sha256': '742bb1ea839f0cbf52ed9e8245bd0aee409171d7d56846f84a472d6e7c9e0f7a',\n",
       "  'artifact_path': 'wandb-client-artifact://qnu98flru9l3q6uz03ei3af51f7fayv774d77bgk8tx0opjxxfu0vh28d2kvxpinepkpzcuvmgxs48c31xs4wedjzw5o9lcvkdn6fjxjlfzcfbn7n0pr73eac64prc0w:latest/ctrees.table.json'},\n",
       " 'lr-AdamW': 8.241107392059631e-11,\n",
       " 'head_seqs': {'ncols': 3,\n",
       "  'nrows': 1,\n",
       "  'sha256': '6a1fc272f7dbcc0fe8e7160f40c12d3dca28ad7dcdd539cbd595a1fc16619f30',\n",
       "  'artifact_path': 'wandb-client-artifact://iyykbgi0if4q2mljss29l9x6p95ahmkxd7x4gsmro7uyov15103ozzzqv9xksh8cjb9fnd6poxj7rfcfb94bfvaxdbz443beurqtyuc0vra7a3ix3gjg5vcrdo45y2ht:latest/head_seqs.table.json',\n",
       "  '_latest_artifact_path': 'wandb-client-artifact://iyykbgi0if4q2mljss29l9x6p95ahmkxd7x4gsmro7uyov15103ozzzqv9xksh8cjb9fnd6poxj7rfcfb94bfvaxdbz443beurqtyuc0vra7a3ix3gjg5vcrdo45y2ht:latest/head_seqs.table.json',\n",
       "  'path': 'media/table/head_seqs_4528_6a1fc272f7dbcc0fe8e7.table.json',\n",
       "  'size': 528,\n",
       "  '_type': 'table-file'},\n",
       " 'val_fscore': 0.6746987700462341,\n",
       " 'val_ctree_sim': 0.4054054021835327,\n",
       " 'test_ctree_sim': 0.4054054021835327,\n",
       " 'train_loss_epoch': 0.41120684146881104,\n",
       " 'test_fscore_postp': 0.6753246784210205,\n",
       " 'test_head_accuracy_postp': 0.692307710647583,\n",
       " '_step': 4534,\n",
       " '_timestamp': 1680170919.8975964,\n",
       " 'test_fscore': 0.6746987700462341,\n",
       " 'train_loss_step': 0.08863497525453568,\n",
       " 'val_fscore_postp': 0.6753246784210205,\n",
       " 'val_head_accuracy': 0.692307710647583,\n",
       " 'trainer/global_step': 107280,\n",
       " '_wandb': {'runtime': 3134},\n",
       " '_runtime': 3134.798234462738,\n",
       " 'val_loss': 1.2212998867034912,\n",
       " 'test_head_accuracy': 0.692307710647583,\n",
       " 'test_arc_accuracy_postp': 0.6756756901741028,\n",
       " 'val_head_accuracy_postp': 0.692307710647583}"
      ]
     },
     "execution_count": 23,
     "metadata": {},
     "output_type": "execute_result"
    }
   ],
   "source": []
  },
  {
   "cell_type": "code",
   "execution_count": 8,
   "metadata": {},
   "outputs": [
    {
     "ename": "NameError",
     "evalue": "name 'pd' is not defined",
     "output_type": "error",
     "traceback": [
      "\u001b[0;31m---------------------------------------------------------------------------\u001b[0m",
      "\u001b[0;31mNameError\u001b[0m                                 Traceback (most recent call last)",
      "Cell \u001b[0;32mIn[8], line 3\u001b[0m\n\u001b[1;32m      1\u001b[0m scores \u001b[39m=\u001b[39m dataset\u001b[39m.\u001b[39mscore_files\n\u001b[1;32m      2\u001b[0m note_features \u001b[39m=\u001b[39m dataset\u001b[39m.\u001b[39mnote_features\n\u001b[0;32m----> 3\u001b[0m df \u001b[39m=\u001b[39m pd\u001b[39m.\u001b[39mDataFrame({\n\u001b[1;32m      4\u001b[0m     \u001b[39m\"\u001b[39m\u001b[39mlen\u001b[39m\u001b[39m\"\u001b[39m: [\u001b[39mlen\u001b[39m(c) \u001b[39mfor\u001b[39;00m c \u001b[39min\u001b[39;00m note_features],\n\u001b[1;32m      5\u001b[0m     \u001b[39m\"\u001b[39m\u001b[39mtitles\u001b[39m\u001b[39m\"\u001b[39m: scores,\n\u001b[1;32m      6\u001b[0m     })\n\u001b[1;32m      8\u001b[0m df\u001b[39m.\u001b[39mto_csv(\u001b[39m\"\u001b[39m\u001b[39mlen.csv\u001b[39m\u001b[39m\"\u001b[39m)\n",
      "\u001b[0;31mNameError\u001b[0m: name 'pd' is not defined"
     ]
    }
   ],
   "source": []
  },
  {
   "cell_type": "code",
   "execution_count": 33,
   "metadata": {},
   "outputs": [],
   "source": [
    "import seaborn as sns\n",
    "import pandas as pd"
   ]
  },
  {
   "cell_type": "code",
   "execution_count": 45,
   "metadata": {},
   "outputs": [],
   "source": [
    "df = pd.read_csv(\"FormattedResults.csv\")"
   ]
  },
  {
   "cell_type": "code",
   "execution_count": 46,
   "metadata": {},
   "outputs": [
    {
     "data": {
      "text/html": [
       "<div>\n",
       "<style scoped>\n",
       "    .dataframe tbody tr th:only-of-type {\n",
       "        vertical-align: middle;\n",
       "    }\n",
       "\n",
       "    .dataframe tbody tr th {\n",
       "        vertical-align: top;\n",
       "    }\n",
       "\n",
       "    .dataframe thead th {\n",
       "        text-align: right;\n",
       "    }\n",
       "</style>\n",
       "<table border=\"1\" class=\"dataframe\">\n",
       "  <thead>\n",
       "    <tr style=\"text-align: right;\">\n",
       "      <th></th>\n",
       "      <th>Accuracy</th>\n",
       "      <th>Model</th>\n",
       "      <th>Value</th>\n",
       "    </tr>\n",
       "  </thead>\n",
       "  <tbody>\n",
       "    <tr>\n",
       "      <th>0</th>\n",
       "      <td>Arc</td>\n",
       "      <td>Harasim</td>\n",
       "      <td>0.750</td>\n",
       "    </tr>\n",
       "    <tr>\n",
       "      <th>1</th>\n",
       "      <td>Arc</td>\n",
       "      <td>Harasim</td>\n",
       "      <td>1.000</td>\n",
       "    </tr>\n",
       "    <tr>\n",
       "      <th>2</th>\n",
       "      <td>Arc</td>\n",
       "      <td>Harasim</td>\n",
       "      <td>1.000</td>\n",
       "    </tr>\n",
       "    <tr>\n",
       "      <th>3</th>\n",
       "      <td>Arc</td>\n",
       "      <td>Harasim</td>\n",
       "      <td>1.000</td>\n",
       "    </tr>\n",
       "    <tr>\n",
       "      <th>4</th>\n",
       "      <td>Arc</td>\n",
       "      <td>Harasim</td>\n",
       "      <td>0.917</td>\n",
       "    </tr>\n",
       "    <tr>\n",
       "      <th>...</th>\n",
       "      <td>...</td>\n",
       "      <td>...</td>\n",
       "      <td>...</td>\n",
       "    </tr>\n",
       "    <tr>\n",
       "      <th>745</th>\n",
       "      <td>Head</td>\n",
       "      <td>MuDeP</td>\n",
       "      <td>0.743</td>\n",
       "    </tr>\n",
       "    <tr>\n",
       "      <th>746</th>\n",
       "      <td>Head</td>\n",
       "      <td>MuDeP</td>\n",
       "      <td>0.943</td>\n",
       "    </tr>\n",
       "    <tr>\n",
       "      <th>747</th>\n",
       "      <td>Head</td>\n",
       "      <td>MuDeP</td>\n",
       "      <td>0.919</td>\n",
       "    </tr>\n",
       "    <tr>\n",
       "      <th>748</th>\n",
       "      <td>Head</td>\n",
       "      <td>MuDeP</td>\n",
       "      <td>0.784</td>\n",
       "    </tr>\n",
       "    <tr>\n",
       "      <th>749</th>\n",
       "      <td>Head</td>\n",
       "      <td>MuDeP</td>\n",
       "      <td>0.684</td>\n",
       "    </tr>\n",
       "  </tbody>\n",
       "</table>\n",
       "<p>750 rows × 3 columns</p>\n",
       "</div>"
      ],
      "text/plain": [
       "    Accuracy    Model  Value\n",
       "0        Arc  Harasim  0.750\n",
       "1        Arc  Harasim  1.000\n",
       "2        Arc  Harasim  1.000\n",
       "3        Arc  Harasim  1.000\n",
       "4        Arc  Harasim  0.917\n",
       "..       ...      ...    ...\n",
       "745     Head    MuDeP  0.743\n",
       "746     Head    MuDeP  0.943\n",
       "747     Head    MuDeP  0.919\n",
       "748     Head    MuDeP  0.784\n",
       "749     Head    MuDeP  0.684\n",
       "\n",
       "[750 rows x 3 columns]"
      ]
     },
     "execution_count": 46,
     "metadata": {},
     "output_type": "execute_result"
    }
   ],
   "source": [
    "df"
   ]
  },
  {
   "cell_type": "code",
   "execution_count": 49,
   "metadata": {},
   "outputs": [
    {
     "data": {
      "image/png": "[encoded data removed]",
      "text/plain": [
       "<Figure size 640x480 with 1 Axes>"
      ]
     },
     "metadata": {},
     "output_type": "display_data"
    }
   ],
   "source": [
    "\n",
    "# Load the example tips dataset\n",
    "# Draw a nested boxplot to show bills by day and time\n",
    "sns.boxplot(x=\"Accuracy\", y=\"Value\",\n",
    "            hue=\"Model\",\n",
    "            data=df)\n",
    "sns.despine(offset=10, trim=True)"
   ]
  },
  {
   "cell_type": "code",
   "execution_count": 38,
   "metadata": {},
   "outputs": [],
   "source": [
    "tips = sns.load_dataset(\"tips\")"
   ]
  },
  {
   "cell_type": "code",
   "execution_count": 39,
   "metadata": {},
   "outputs": [
    {
     "data": {
      "text/html": [
       "<div>\n",
       "<style scoped>\n",
       "    .dataframe tbody tr th:only-of-type {\n",
       "        vertical-align: middle;\n",
       "    }\n",
       "\n",
       "    .dataframe tbody tr th {\n",
       "        vertical-align: top;\n",
       "    }\n",
       "\n",
       "    .dataframe thead th {\n",
       "        text-align: right;\n",
       "    }\n",
       "</style>\n",
       "<table border=\"1\" class=\"dataframe\">\n",
       "  <thead>\n",
       "    <tr style=\"text-align: right;\">\n",
       "      <th></th>\n",
       "      <th>total_bill</th>\n",
       "      <th>tip</th>\n",
       "      <th>sex</th>\n",
       "      <th>smoker</th>\n",
       "      <th>day</th>\n",
       "      <th>time</th>\n",
       "      <th>size</th>\n",
       "    </tr>\n",
       "  </thead>\n",
       "  <tbody>\n",
       "    <tr>\n",
       "      <th>0</th>\n",
       "      <td>16.99</td>\n",
       "      <td>1.01</td>\n",
       "      <td>Female</td>\n",
       "      <td>No</td>\n",
       "      <td>Sun</td>\n",
       "      <td>Dinner</td>\n",
       "      <td>2</td>\n",
       "    </tr>\n",
       "    <tr>\n",
       "      <th>1</th>\n",
       "      <td>10.34</td>\n",
       "      <td>1.66</td>\n",
       "      <td>Male</td>\n",
       "      <td>No</td>\n",
       "      <td>Sun</td>\n",
       "      <td>Dinner</td>\n",
       "      <td>3</td>\n",
       "    </tr>\n",
       "    <tr>\n",
       "      <th>2</th>\n",
       "      <td>21.01</td>\n",
       "      <td>3.50</td>\n",
       "      <td>Male</td>\n",
       "      <td>No</td>\n",
       "      <td>Sun</td>\n",
       "      <td>Dinner</td>\n",
       "      <td>3</td>\n",
       "    </tr>\n",
       "    <tr>\n",
       "      <th>3</th>\n",
       "      <td>23.68</td>\n",
       "      <td>3.31</td>\n",
       "      <td>Male</td>\n",
       "      <td>No</td>\n",
       "      <td>Sun</td>\n",
       "      <td>Dinner</td>\n",
       "      <td>2</td>\n",
       "    </tr>\n",
       "    <tr>\n",
       "      <th>4</th>\n",
       "      <td>24.59</td>\n",
       "      <td>3.61</td>\n",
       "      <td>Female</td>\n",
       "      <td>No</td>\n",
       "      <td>Sun</td>\n",
       "      <td>Dinner</td>\n",
       "      <td>4</td>\n",
       "    </tr>\n",
       "    <tr>\n",
       "      <th>...</th>\n",
       "      <td>...</td>\n",
       "      <td>...</td>\n",
       "      <td>...</td>\n",
       "      <td>...</td>\n",
       "      <td>...</td>\n",
       "      <td>...</td>\n",
       "      <td>...</td>\n",
       "    </tr>\n",
       "    <tr>\n",
       "      <th>239</th>\n",
       "      <td>29.03</td>\n",
       "      <td>5.92</td>\n",
       "      <td>Male</td>\n",
       "      <td>No</td>\n",
       "      <td>Sat</td>\n",
       "      <td>Dinner</td>\n",
       "      <td>3</td>\n",
       "    </tr>\n",
       "    <tr>\n",
       "      <th>240</th>\n",
       "      <td>27.18</td>\n",
       "      <td>2.00</td>\n",
       "      <td>Female</td>\n",
       "      <td>Yes</td>\n",
       "      <td>Sat</td>\n",
       "      <td>Dinner</td>\n",
       "      <td>2</td>\n",
       "    </tr>\n",
       "    <tr>\n",
       "      <th>241</th>\n",
       "      <td>22.67</td>\n",
       "      <td>2.00</td>\n",
       "      <td>Male</td>\n",
       "      <td>Yes</td>\n",
       "      <td>Sat</td>\n",
       "      <td>Dinner</td>\n",
       "      <td>2</td>\n",
       "    </tr>\n",
       "    <tr>\n",
       "      <th>242</th>\n",
       "      <td>17.82</td>\n",
       "      <td>1.75</td>\n",
       "      <td>Male</td>\n",
       "      <td>No</td>\n",
       "      <td>Sat</td>\n",
       "      <td>Dinner</td>\n",
       "      <td>2</td>\n",
       "    </tr>\n",
       "    <tr>\n",
       "      <th>243</th>\n",
       "      <td>18.78</td>\n",
       "      <td>3.00</td>\n",
       "      <td>Female</td>\n",
       "      <td>No</td>\n",
       "      <td>Thur</td>\n",
       "      <td>Dinner</td>\n",
       "      <td>2</td>\n",
       "    </tr>\n",
       "  </tbody>\n",
       "</table>\n",
       "<p>244 rows × 7 columns</p>\n",
       "</div>"
      ],
      "text/plain": [
       "     total_bill   tip     sex smoker   day    time  size\n",
       "0         16.99  1.01  Female     No   Sun  Dinner     2\n",
       "1         10.34  1.66    Male     No   Sun  Dinner     3\n",
       "2         21.01  3.50    Male     No   Sun  Dinner     3\n",
       "3         23.68  3.31    Male     No   Sun  Dinner     2\n",
       "4         24.59  3.61  Female     No   Sun  Dinner     4\n",
       "..          ...   ...     ...    ...   ...     ...   ...\n",
       "239       29.03  5.92    Male     No   Sat  Dinner     3\n",
       "240       27.18  2.00  Female    Yes   Sat  Dinner     2\n",
       "241       22.67  2.00    Male    Yes   Sat  Dinner     2\n",
       "242       17.82  1.75    Male     No   Sat  Dinner     2\n",
       "243       18.78  3.00  Female     No  Thur  Dinner     2\n",
       "\n",
       "[244 rows x 7 columns]"
      ]
     },
     "execution_count": 39,
     "metadata": {},
     "output_type": "execute_result"
    }
   ],
   "source": [
    "tips"
   ]
  },
  {
   "attachments": {},
   "cell_type": "markdown",
   "metadata": {},
   "source": [
    "# Graphic visualization of trees\n",
    "\n",
    "1. Download the trees from wandb"
   ]
  },
  {
   "attachments": {},
   "cell_type": "markdown",
   "metadata": {},
   "source": [
    "import wandb\n",
    "run = wandb.init()\n",
    "artifact = run.use_artifact('fosfrancesco/sweeps_JTB/model-zgzanttn:v0', type='model')\n",
    "artifact_dir = artifact.download()\n",
    "\n",
    "run-akrl4j0y-head_seqs:v9\n",
    "\n",
    "api = wandb.Api()\n",
    "artifact = api.artifact('entity/project/artifact:alias')\n",
    "artifact.download()"
   ]
  },
  {
   "cell_type": "code",
   "execution_count": 32,
   "metadata": {},
   "outputs": [
    {
     "data": {
      "text/html": [
       "Finishing last run (ID:ploq9num) before initializing another..."
      ],
      "text/plain": [
       "<IPython.core.display.HTML object>"
      ]
     },
     "metadata": {},
     "output_type": "display_data"
    },
    {
     "data": {
      "text/html": [
       "Waiting for W&B process to finish... <strong style=\"color:green\">(success).</strong>"
      ],
      "text/plain": [
       "<IPython.core.display.HTML object>"
      ]
     },
     "metadata": {},
     "output_type": "display_data"
    },
    {
     "data": {
      "text/html": [
       " View run <strong style=\"color:#cdcd00\">bumbling-totem-55</strong> at: <a href='https://wandb.ai/fosfrancesco/musicparser/runs/ploq9num' target=\"_blank\">https://wandb.ai/fosfrancesco/musicparser/runs/ploq9num</a><br/>Synced 6 W&B file(s), 0 media file(s), 0 artifact file(s) and 0 other file(s)"
      ],
      "text/plain": [
       "<IPython.core.display.HTML object>"
      ]
     },
     "metadata": {},
     "output_type": "display_data"
    },
    {
     "data": {
      "text/html": [
       "Find logs at: <code>./wandb/run-20230622_162439-ploq9num/logs</code>"
      ],
      "text/plain": [
       "<IPython.core.display.HTML object>"
      ]
     },
     "metadata": {},
     "output_type": "display_data"
    },
    {
     "data": {
      "text/html": [
       "Successfully finished last run (ID:ploq9num). Initializing new run:<br/>"
      ],
      "text/plain": [
       "<IPython.core.display.HTML object>"
      ]
     },
     "metadata": {},
     "output_type": "display_data"
    },
    {
     "data": {
      "text/html": [
       "wandb version 0.15.4 is available!  To upgrade, please run:\n",
       " $ pip install wandb --upgrade"
      ],
      "text/plain": [
       "<IPython.core.display.HTML object>"
      ]
     },
     "metadata": {},
     "output_type": "display_data"
    },
    {
     "data": {
      "text/html": [
       "Tracking run with wandb version 0.13.10"
      ],
      "text/plain": [
       "<IPython.core.display.HTML object>"
      ]
     },
     "metadata": {},
     "output_type": "display_data"
    },
    {
     "data": {
      "text/html": [
       "Run data is saved locally in <code>/share/home/francesco/musicparser/wandb/run-20230622_162458-n44dy8n9</code>"
      ],
      "text/plain": [
       "<IPython.core.display.HTML object>"
      ]
     },
     "metadata": {},
     "output_type": "display_data"
    },
    {
     "data": {
      "text/html": [
       "Syncing run <strong><a href='https://wandb.ai/fosfrancesco/musicparser/runs/n44dy8n9' target=\"_blank\">hopeful-river-56</a></strong> to <a href='https://wandb.ai/fosfrancesco/musicparser' target=\"_blank\">Weights & Biases</a> (<a href='https://wandb.me/run' target=\"_blank\">docs</a>)<br/>"
      ],
      "text/plain": [
       "<IPython.core.display.HTML object>"
      ]
     },
     "metadata": {},
     "output_type": "display_data"
    },
    {
     "data": {
      "text/html": [
       " View project at <a href='https://wandb.ai/fosfrancesco/musicparser' target=\"_blank\">https://wandb.ai/fosfrancesco/musicparser</a>"
      ],
      "text/plain": [
       "<IPython.core.display.HTML object>"
      ]
     },
     "metadata": {},
     "output_type": "display_data"
    },
    {
     "data": {
      "text/html": [
       " View run at <a href='https://wandb.ai/fosfrancesco/musicparser/runs/n44dy8n9' target=\"_blank\">https://wandb.ai/fosfrancesco/musicparser/runs/n44dy8n9</a>"
      ],
      "text/plain": [
       "<IPython.core.display.HTML object>"
      ]
     },
     "metadata": {},
     "output_type": "display_data"
    },
    {
     "name": "stderr",
     "output_type": "stream",
     "text": [
      "\u001b[34m\u001b[1mwandb\u001b[0m:   1 of 1 files downloaded.  \n"
     ]
    },
    {
     "name": "stdout",
     "output_type": "stream",
     "text": [
      "./artifacts/run-kujfaczw-head_seqs:v41\n"
     ]
    }
   ],
   "source": [
    "import wandb\n",
    "run = wandb.init()\n",
    "artifact = run.use_artifact('fosfrancesco/sweeps_JTB/run-kujfaczw-head_seqs:latest', type='run_table')\n",
    "artifact_dir = artifact.download()\n",
    "print(artifact_dir)"
   ]
  },
  {
   "cell_type": "code",
   "execution_count": 17,
   "metadata": {},
   "outputs": [],
   "source": [
    "artifact = api.run('fosfrancesco/sweeps_JTB/kujfaczw')"
   ]
  },
  {
   "cell_type": "code",
   "execution_count": 28,
   "metadata": {},
   "outputs": [
    {
     "name": "stderr",
     "output_type": "stream",
     "text": [
      "\u001b[34m\u001b[1mwandb\u001b[0m:   1 of 1 files downloaded.  \n",
      "\u001b[34m\u001b[1mwandb\u001b[0m:   1 of 1 files downloaded.  \n",
      "\u001b[34m\u001b[1mwandb\u001b[0m:   1 of 1 files downloaded.  \n",
      "\u001b[34m\u001b[1mwandb\u001b[0m:   1 of 1 files downloaded.  \n",
      "\u001b[34m\u001b[1mwandb\u001b[0m:   1 of 1 files downloaded.  \n",
      "\u001b[34m\u001b[1mwandb\u001b[0m:   1 of 1 files downloaded.  \n",
      "\u001b[34m\u001b[1mwandb\u001b[0m:   1 of 1 files downloaded.  \n",
      "\u001b[34m\u001b[1mwandb\u001b[0m:   1 of 1 files downloaded.  \n",
      "\u001b[34m\u001b[1mwandb\u001b[0m:   1 of 1 files downloaded.  \n",
      "\u001b[34m\u001b[1mwandb\u001b[0m:   1 of 1 files downloaded.  \n",
      "\u001b[34m\u001b[1mwandb\u001b[0m:   1 of 1 files downloaded.  \n",
      "\u001b[34m\u001b[1mwandb\u001b[0m:   1 of 1 files downloaded.  \n",
      "\u001b[34m\u001b[1mwandb\u001b[0m:   1 of 1 files downloaded.  \n",
      "\u001b[34m\u001b[1mwandb\u001b[0m:   1 of 1 files downloaded.  \n",
      "\u001b[34m\u001b[1mwandb\u001b[0m:   1 of 1 files downloaded.  \n",
      "\u001b[34m\u001b[1mwandb\u001b[0m:   1 of 1 files downloaded.  \n",
      "\u001b[34m\u001b[1mwandb\u001b[0m:   1 of 1 files downloaded.  \n",
      "\u001b[34m\u001b[1mwandb\u001b[0m:   1 of 1 files downloaded.  \n",
      "\u001b[34m\u001b[1mwandb\u001b[0m:   1 of 1 files downloaded.  \n",
      "\u001b[34m\u001b[1mwandb\u001b[0m:   1 of 1 files downloaded.  \n",
      "\u001b[34m\u001b[1mwandb\u001b[0m:   1 of 1 files downloaded.  \n",
      "\u001b[34m\u001b[1mwandb\u001b[0m:   1 of 1 files downloaded.  \n",
      "\u001b[34m\u001b[1mwandb\u001b[0m:   1 of 1 files downloaded.  \n",
      "\u001b[34m\u001b[1mwandb\u001b[0m:   1 of 1 files downloaded.  \n",
      "\u001b[34m\u001b[1mwandb\u001b[0m:   1 of 1 files downloaded.  \n",
      "\u001b[34m\u001b[1mwandb\u001b[0m:   1 of 1 files downloaded.  \n",
      "\u001b[34m\u001b[1mwandb\u001b[0m:   1 of 1 files downloaded.  \n",
      "\u001b[34m\u001b[1mwandb\u001b[0m:   1 of 1 files downloaded.  \n",
      "\u001b[34m\u001b[1mwandb\u001b[0m:   1 of 1 files downloaded.  \n",
      "\u001b[34m\u001b[1mwandb\u001b[0m:   1 of 1 files downloaded.  \n",
      "\u001b[34m\u001b[1mwandb\u001b[0m:   1 of 1 files downloaded.  \n",
      "\u001b[34m\u001b[1mwandb\u001b[0m:   1 of 1 files downloaded.  \n",
      "\u001b[34m\u001b[1mwandb\u001b[0m:   1 of 1 files downloaded.  \n",
      "\u001b[34m\u001b[1mwandb\u001b[0m:   1 of 1 files downloaded.  \n",
      "\u001b[34m\u001b[1mwandb\u001b[0m:   1 of 1 files downloaded.  \n",
      "\u001b[34m\u001b[1mwandb\u001b[0m:   1 of 1 files downloaded.  \n",
      "\u001b[34m\u001b[1mwandb\u001b[0m:   1 of 1 files downloaded.  \n",
      "\u001b[34m\u001b[1mwandb\u001b[0m:   1 of 1 files downloaded.  \n",
      "\u001b[34m\u001b[1mwandb\u001b[0m:   1 of 1 files downloaded.  \n",
      "\u001b[34m\u001b[1mwandb\u001b[0m:   1 of 1 files downloaded.  \n",
      "\u001b[34m\u001b[1mwandb\u001b[0m:   1 of 1 files downloaded.  \n",
      "\u001b[34m\u001b[1mwandb\u001b[0m:   1 of 1 files downloaded.  \n",
      "\u001b[34m\u001b[1mwandb\u001b[0m:   1 of 1 files downloaded.  \n",
      "\u001b[34m\u001b[1mwandb\u001b[0m:   1 of 1 files downloaded.  \n",
      "\u001b[34m\u001b[1mwandb\u001b[0m:   1 of 1 files downloaded.  \n",
      "\u001b[34m\u001b[1mwandb\u001b[0m:   1 of 1 files downloaded.  \n",
      "\u001b[34m\u001b[1mwandb\u001b[0m:   1 of 1 files downloaded.  \n",
      "\u001b[34m\u001b[1mwandb\u001b[0m:   1 of 1 files downloaded.  \n",
      "\u001b[34m\u001b[1mwandb\u001b[0m:   1 of 1 files downloaded.  \n",
      "\u001b[34m\u001b[1mwandb\u001b[0m:   1 of 1 files downloaded.  \n",
      "\u001b[34m\u001b[1mwandb\u001b[0m:   1 of 1 files downloaded.  \n",
      "\u001b[34m\u001b[1mwandb\u001b[0m:   1 of 1 files downloaded.  \n",
      "\u001b[34m\u001b[1mwandb\u001b[0m:   1 of 1 files downloaded.  \n",
      "\u001b[34m\u001b[1mwandb\u001b[0m:   1 of 1 files downloaded.  \n",
      "\u001b[34m\u001b[1mwandb\u001b[0m:   1 of 1 files downloaded.  \n",
      "\u001b[34m\u001b[1mwandb\u001b[0m:   1 of 1 files downloaded.  \n",
      "\u001b[34m\u001b[1mwandb\u001b[0m:   1 of 1 files downloaded.  \n",
      "\u001b[34m\u001b[1mwandb\u001b[0m:   1 of 1 files downloaded.  \n",
      "\u001b[34m\u001b[1mwandb\u001b[0m:   1 of 1 files downloaded.  \n",
      "\u001b[34m\u001b[1mwandb\u001b[0m:   1 of 1 files downloaded.  \n",
      "\u001b[34m\u001b[1mwandb\u001b[0m:   1 of 1 files downloaded.  \n",
      "\u001b[34m\u001b[1mwandb\u001b[0m:   1 of 1 files downloaded.  \n",
      "\u001b[34m\u001b[1mwandb\u001b[0m:   1 of 1 files downloaded.  \n",
      "\u001b[34m\u001b[1mwandb\u001b[0m:   1 of 1 files downloaded.  \n",
      "\u001b[34m\u001b[1mwandb\u001b[0m:   1 of 1 files downloaded.  \n",
      "\u001b[34m\u001b[1mwandb\u001b[0m:   1 of 1 files downloaded.  \n",
      "\u001b[34m\u001b[1mwandb\u001b[0m:   1 of 1 files downloaded.  \n",
      "\u001b[34m\u001b[1mwandb\u001b[0m:   1 of 1 files downloaded.  \n",
      "\u001b[34m\u001b[1mwandb\u001b[0m:   1 of 1 files downloaded.  \n",
      "\u001b[34m\u001b[1mwandb\u001b[0m:   1 of 1 files downloaded.  \n",
      "\u001b[34m\u001b[1mwandb\u001b[0m:   1 of 1 files downloaded.  \n",
      "\u001b[34m\u001b[1mwandb\u001b[0m:   1 of 1 files downloaded.  \n",
      "\u001b[34m\u001b[1mwandb\u001b[0m:   1 of 1 files downloaded.  \n",
      "\u001b[34m\u001b[1mwandb\u001b[0m:   1 of 1 files downloaded.  \n",
      "\u001b[34m\u001b[1mwandb\u001b[0m:   1 of 1 files downloaded.  \n",
      "\u001b[34m\u001b[1mwandb\u001b[0m:   1 of 1 files downloaded.  \n",
      "\u001b[34m\u001b[1mwandb\u001b[0m:   1 of 1 files downloaded.  \n",
      "\u001b[34m\u001b[1mwandb\u001b[0m:   1 of 1 files downloaded.  \n",
      "\u001b[34m\u001b[1mwandb\u001b[0m:   1 of 1 files downloaded.  \n",
      "\u001b[34m\u001b[1mwandb\u001b[0m:   1 of 1 files downloaded.  \n",
      "\u001b[34m\u001b[1mwandb\u001b[0m:   1 of 1 files downloaded.  \n",
      "\u001b[34m\u001b[1mwandb\u001b[0m:   1 of 1 files downloaded.  \n",
      "\u001b[34m\u001b[1mwandb\u001b[0m:   1 of 1 files downloaded.  \n",
      "\u001b[34m\u001b[1mwandb\u001b[0m:   1 of 1 files downloaded.  \n",
      "\u001b[34m\u001b[1mwandb\u001b[0m:   1 of 1 files downloaded.  \n",
      "\u001b[34m\u001b[1mwandb\u001b[0m:   1 of 1 files downloaded.  \n",
      "\u001b[34m\u001b[1mwandb\u001b[0m:   1 of 1 files downloaded.  \n",
      "\u001b[34m\u001b[1mwandb\u001b[0m:   1 of 1 files downloaded.  \n",
      "\u001b[34m\u001b[1mwandb\u001b[0m:   1 of 1 files downloaded.  \n",
      "\u001b[34m\u001b[1mwandb\u001b[0m:   1 of 1 files downloaded.  \n",
      "\u001b[34m\u001b[1mwandb\u001b[0m:   1 of 1 files downloaded.  \n",
      "\u001b[34m\u001b[1mwandb\u001b[0m:   1 of 1 files downloaded.  \n",
      "\u001b[34m\u001b[1mwandb\u001b[0m:   1 of 1 files downloaded.  \n",
      "\u001b[34m\u001b[1mwandb\u001b[0m:   1 of 1 files downloaded.  \n",
      "\u001b[34m\u001b[1mwandb\u001b[0m:   1 of 1 files downloaded.  \n",
      "\u001b[34m\u001b[1mwandb\u001b[0m:   1 of 1 files downloaded.  \n",
      "\u001b[34m\u001b[1mwandb\u001b[0m:   1 of 1 files downloaded.  \n",
      "\u001b[34m\u001b[1mwandb\u001b[0m:   1 of 1 files downloaded.  \n",
      "\u001b[34m\u001b[1mwandb\u001b[0m:   1 of 1 files downloaded.  \n",
      "\u001b[34m\u001b[1mwandb\u001b[0m:   1 of 1 files downloaded.  \n",
      "\u001b[34m\u001b[1mwandb\u001b[0m:   1 of 1 files downloaded.  \n",
      "\u001b[34m\u001b[1mwandb\u001b[0m:   1 of 1 files downloaded.  \n",
      "\u001b[34m\u001b[1mwandb\u001b[0m:   1 of 1 files downloaded.  \n",
      "\u001b[34m\u001b[1mwandb\u001b[0m:   1 of 1 files downloaded.  \n",
      "\u001b[34m\u001b[1mwandb\u001b[0m:   1 of 1 files downloaded.  \n",
      "\u001b[34m\u001b[1mwandb\u001b[0m:   1 of 1 files downloaded.  \n",
      "\u001b[34m\u001b[1mwandb\u001b[0m:   1 of 1 files downloaded.  \n",
      "\u001b[34m\u001b[1mwandb\u001b[0m:   1 of 1 files downloaded.  \n",
      "\u001b[34m\u001b[1mwandb\u001b[0m:   1 of 1 files downloaded.  \n",
      "\u001b[34m\u001b[1mwandb\u001b[0m:   1 of 1 files downloaded.  \n",
      "\u001b[34m\u001b[1mwandb\u001b[0m:   1 of 1 files downloaded.  \n",
      "\u001b[34m\u001b[1mwandb\u001b[0m:   1 of 1 files downloaded.  \n",
      "\u001b[34m\u001b[1mwandb\u001b[0m:   1 of 1 files downloaded.  \n",
      "\u001b[34m\u001b[1mwandb\u001b[0m:   1 of 1 files downloaded.  \n",
      "\u001b[34m\u001b[1mwandb\u001b[0m:   1 of 1 files downloaded.  \n",
      "\u001b[34m\u001b[1mwandb\u001b[0m:   1 of 1 files downloaded.  \n",
      "\u001b[34m\u001b[1mwandb\u001b[0m:   1 of 1 files downloaded.  \n",
      "\u001b[34m\u001b[1mwandb\u001b[0m:   1 of 1 files downloaded.  \n",
      "\u001b[34m\u001b[1mwandb\u001b[0m:   1 of 1 files downloaded.  \n",
      "\u001b[34m\u001b[1mwandb\u001b[0m:   1 of 1 files downloaded.  \n",
      "\u001b[34m\u001b[1mwandb\u001b[0m:   1 of 1 files downloaded.  \n",
      "\u001b[34m\u001b[1mwandb\u001b[0m:   1 of 1 files downloaded.  \n",
      "\u001b[34m\u001b[1mwandb\u001b[0m:   1 of 1 files downloaded.  \n",
      "\u001b[34m\u001b[1mwandb\u001b[0m:   1 of 1 files downloaded.  \n",
      "\u001b[34m\u001b[1mwandb\u001b[0m:   1 of 1 files downloaded.  \n",
      "\u001b[34m\u001b[1mwandb\u001b[0m:   1 of 1 files downloaded.  \n",
      "\u001b[34m\u001b[1mwandb\u001b[0m:   1 of 1 files downloaded.  \n",
      "\u001b[34m\u001b[1mwandb\u001b[0m:   1 of 1 files downloaded.  \n",
      "\u001b[34m\u001b[1mwandb\u001b[0m:   1 of 1 files downloaded.  \n",
      "\u001b[34m\u001b[1mwandb\u001b[0m:   1 of 1 files downloaded.  \n",
      "\u001b[34m\u001b[1mwandb\u001b[0m:   1 of 1 files downloaded.  \n",
      "\u001b[34m\u001b[1mwandb\u001b[0m:   1 of 1 files downloaded.  \n",
      "\u001b[34m\u001b[1mwandb\u001b[0m:   1 of 1 files downloaded.  \n",
      "\u001b[34m\u001b[1mwandb\u001b[0m:   1 of 1 files downloaded.  \n",
      "\u001b[34m\u001b[1mwandb\u001b[0m:   1 of 1 files downloaded.  \n",
      "\u001b[34m\u001b[1mwandb\u001b[0m:   1 of 1 files downloaded.  \n",
      "\u001b[34m\u001b[1mwandb\u001b[0m:   1 of 1 files downloaded.  \n",
      "\u001b[34m\u001b[1mwandb\u001b[0m:   1 of 1 files downloaded.  \n",
      "\u001b[34m\u001b[1mwandb\u001b[0m:   1 of 1 files downloaded.  \n",
      "\u001b[34m\u001b[1mwandb\u001b[0m:   1 of 1 files downloaded.  \n",
      "\u001b[34m\u001b[1mwandb\u001b[0m:   1 of 1 files downloaded.  \n",
      "\u001b[34m\u001b[1mwandb\u001b[0m:   1 of 1 files downloaded.  \n",
      "\u001b[34m\u001b[1mwandb\u001b[0m:   1 of 1 files downloaded.  \n",
      "\u001b[34m\u001b[1mwandb\u001b[0m:   1 of 1 files downloaded.  \n",
      "\u001b[34m\u001b[1mwandb\u001b[0m:   1 of 1 files downloaded.  \n",
      "\u001b[34m\u001b[1mwandb\u001b[0m:   1 of 1 files downloaded.  \n",
      "\u001b[34m\u001b[1mwandb\u001b[0m:   1 of 1 files downloaded.  \n",
      "\u001b[34m\u001b[1mwandb\u001b[0m:   1 of 1 files downloaded.  \n",
      "\u001b[34m\u001b[1mwandb\u001b[0m:   1 of 1 files downloaded.  \n",
      "\u001b[34m\u001b[1mwandb\u001b[0m:   1 of 1 files downloaded.  \n",
      "\u001b[34m\u001b[1mwandb\u001b[0m:   1 of 1 files downloaded.  \n",
      "\u001b[34m\u001b[1mwandb\u001b[0m:   1 of 1 files downloaded.  \n",
      "\u001b[34m\u001b[1mwandb\u001b[0m:   1 of 1 files downloaded.  \n",
      "\u001b[34m\u001b[1mwandb\u001b[0m:   1 of 1 files downloaded.  \n",
      "\u001b[34m\u001b[1mwandb\u001b[0m:   1 of 1 files downloaded.  \n",
      "\u001b[34m\u001b[1mwandb\u001b[0m:   1 of 1 files downloaded.  \n",
      "\u001b[34m\u001b[1mwandb\u001b[0m:   1 of 1 files downloaded.  \n",
      "\u001b[34m\u001b[1mwandb\u001b[0m:   1 of 1 files downloaded.  \n",
      "\u001b[34m\u001b[1mwandb\u001b[0m:   1 of 1 files downloaded.  \n",
      "\u001b[34m\u001b[1mwandb\u001b[0m:   1 of 1 files downloaded.  \n",
      "\u001b[34m\u001b[1mwandb\u001b[0m:   1 of 1 files downloaded.  \n",
      "\u001b[34m\u001b[1mwandb\u001b[0m:   1 of 1 files downloaded.  \n",
      "\u001b[34m\u001b[1mwandb\u001b[0m:   1 of 1 files downloaded.  \n",
      "\u001b[34m\u001b[1mwandb\u001b[0m:   1 of 1 files downloaded.  \n",
      "\u001b[34m\u001b[1mwandb\u001b[0m:   1 of 1 files downloaded.  \n",
      "\u001b[34m\u001b[1mwandb\u001b[0m:   1 of 1 files downloaded.  \n",
      "\u001b[34m\u001b[1mwandb\u001b[0m:   1 of 1 files downloaded.  \n",
      "\u001b[34m\u001b[1mwandb\u001b[0m:   1 of 1 files downloaded.  \n",
      "\u001b[34m\u001b[1mwandb\u001b[0m:   1 of 1 files downloaded.  \n",
      "\u001b[34m\u001b[1mwandb\u001b[0m:   1 of 1 files downloaded.  \n",
      "\u001b[34m\u001b[1mwandb\u001b[0m:   1 of 1 files downloaded.  \n",
      "\u001b[34m\u001b[1mwandb\u001b[0m:   1 of 1 files downloaded.  \n",
      "\u001b[34m\u001b[1mwandb\u001b[0m:   1 of 1 files downloaded.  \n",
      "\u001b[34m\u001b[1mwandb\u001b[0m:   1 of 1 files downloaded.  \n",
      "\u001b[34m\u001b[1mwandb\u001b[0m:   1 of 1 files downloaded.  \n",
      "\u001b[34m\u001b[1mwandb\u001b[0m:   1 of 1 files downloaded.  \n",
      "\u001b[34m\u001b[1mwandb\u001b[0m:   1 of 1 files downloaded.  \n",
      "\u001b[34m\u001b[1mwandb\u001b[0m:   1 of 1 files downloaded.  \n",
      "\u001b[34m\u001b[1mwandb\u001b[0m:   1 of 1 files downloaded.  \n",
      "\u001b[34m\u001b[1mwandb\u001b[0m:   1 of 1 files downloaded.  \n",
      "\u001b[34m\u001b[1mwandb\u001b[0m:   1 of 1 files downloaded.  \n",
      "\u001b[34m\u001b[1mwandb\u001b[0m:   1 of 1 files downloaded.  \n",
      "\u001b[34m\u001b[1mwandb\u001b[0m:   1 of 1 files downloaded.  \n",
      "\u001b[34m\u001b[1mwandb\u001b[0m:   1 of 1 files downloaded.  \n",
      "\u001b[34m\u001b[1mwandb\u001b[0m:   1 of 1 files downloaded.  \n",
      "\u001b[34m\u001b[1mwandb\u001b[0m:   1 of 1 files downloaded.  \n",
      "\u001b[34m\u001b[1mwandb\u001b[0m:   1 of 1 files downloaded.  \n",
      "\u001b[34m\u001b[1mwandb\u001b[0m:   1 of 1 files downloaded.  \n",
      "\u001b[34m\u001b[1mwandb\u001b[0m:   1 of 1 files downloaded.  \n",
      "\u001b[34m\u001b[1mwandb\u001b[0m:   1 of 1 files downloaded.  \n",
      "\u001b[34m\u001b[1mwandb\u001b[0m:   1 of 1 files downloaded.  \n",
      "\u001b[34m\u001b[1mwandb\u001b[0m:   1 of 1 files downloaded.  \n",
      "\u001b[34m\u001b[1mwandb\u001b[0m:   1 of 1 files downloaded.  \n",
      "\u001b[34m\u001b[1mwandb\u001b[0m:   1 of 1 files downloaded.  \n",
      "\u001b[34m\u001b[1mwandb\u001b[0m:   1 of 1 files downloaded.  \n",
      "\u001b[34m\u001b[1mwandb\u001b[0m:   1 of 1 files downloaded.  \n",
      "\u001b[34m\u001b[1mwandb\u001b[0m:   1 of 1 files downloaded.  \n",
      "\u001b[34m\u001b[1mwandb\u001b[0m:   1 of 1 files downloaded.  \n",
      "\u001b[34m\u001b[1mwandb\u001b[0m:   1 of 1 files downloaded.  \n",
      "\u001b[34m\u001b[1mwandb\u001b[0m:   1 of 1 files downloaded.  \n",
      "\u001b[34m\u001b[1mwandb\u001b[0m:   1 of 1 files downloaded.  \n",
      "\u001b[34m\u001b[1mwandb\u001b[0m:   1 of 1 files downloaded.  \n",
      "\u001b[34m\u001b[1mwandb\u001b[0m:   1 of 1 files downloaded.  \n",
      "\u001b[34m\u001b[1mwandb\u001b[0m:   1 of 1 files downloaded.  \n",
      "\u001b[34m\u001b[1mwandb\u001b[0m:   1 of 1 files downloaded.  \n",
      "\u001b[34m\u001b[1mwandb\u001b[0m:   1 of 1 files downloaded.  \n",
      "\u001b[34m\u001b[1mwandb\u001b[0m:   1 of 1 files downloaded.  \n",
      "\u001b[34m\u001b[1mwandb\u001b[0m:   1 of 1 files downloaded.  \n",
      "\u001b[34m\u001b[1mwandb\u001b[0m:   1 of 1 files downloaded.  \n",
      "\u001b[34m\u001b[1mwandb\u001b[0m:   1 of 1 files downloaded.  \n",
      "\u001b[34m\u001b[1mwandb\u001b[0m:   1 of 1 files downloaded.  \n",
      "\u001b[34m\u001b[1mwandb\u001b[0m:   1 of 1 files downloaded.  \n",
      "\u001b[34m\u001b[1mwandb\u001b[0m:   1 of 1 files downloaded.  \n",
      "\u001b[34m\u001b[1mwandb\u001b[0m:   1 of 1 files downloaded.  \n",
      "\u001b[34m\u001b[1mwandb\u001b[0m:   1 of 1 files downloaded.  \n",
      "\u001b[34m\u001b[1mwandb\u001b[0m:   1 of 1 files downloaded.  \n",
      "\u001b[34m\u001b[1mwandb\u001b[0m:   1 of 1 files downloaded.  \n",
      "\u001b[34m\u001b[1mwandb\u001b[0m:   1 of 1 files downloaded.  \n",
      "\u001b[34m\u001b[1mwandb\u001b[0m:   1 of 1 files downloaded.  \n",
      "\u001b[34m\u001b[1mwandb\u001b[0m:   1 of 1 files downloaded.  \n",
      "\u001b[34m\u001b[1mwandb\u001b[0m:   1 of 1 files downloaded.  \n",
      "\u001b[34m\u001b[1mwandb\u001b[0m:   1 of 1 files downloaded.  \n",
      "\u001b[34m\u001b[1mwandb\u001b[0m:   1 of 1 files downloaded.  \n",
      "\u001b[34m\u001b[1mwandb\u001b[0m:   1 of 1 files downloaded.  \n",
      "\u001b[34m\u001b[1mwandb\u001b[0m:   1 of 1 files downloaded.  \n",
      "\u001b[34m\u001b[1mwandb\u001b[0m:   1 of 1 files downloaded.  \n",
      "\u001b[34m\u001b[1mwandb\u001b[0m:   1 of 1 files downloaded.  \n",
      "\u001b[34m\u001b[1mwandb\u001b[0m:   1 of 1 files downloaded.  \n",
      "\u001b[34m\u001b[1mwandb\u001b[0m:   1 of 1 files downloaded.  \n",
      "\u001b[34m\u001b[1mwandb\u001b[0m:   1 of 1 files downloaded.  \n",
      "\u001b[34m\u001b[1mwandb\u001b[0m:   1 of 1 files downloaded.  \n",
      "\u001b[34m\u001b[1mwandb\u001b[0m:   1 of 1 files downloaded.  \n",
      "\u001b[34m\u001b[1mwandb\u001b[0m:   1 of 1 files downloaded.  \n",
      "\u001b[34m\u001b[1mwandb\u001b[0m:   1 of 1 files downloaded.  \n",
      "\u001b[34m\u001b[1mwandb\u001b[0m:   1 of 1 files downloaded.  \n",
      "\u001b[34m\u001b[1mwandb\u001b[0m:   1 of 1 files downloaded.  \n",
      "\u001b[34m\u001b[1mwandb\u001b[0m:   1 of 1 files downloaded.  \n",
      "\u001b[34m\u001b[1mwandb\u001b[0m:   1 of 1 files downloaded.  \n",
      "\u001b[34m\u001b[1mwandb\u001b[0m:   1 of 1 files downloaded.  \n",
      "\u001b[34m\u001b[1mwandb\u001b[0m:   1 of 1 files downloaded.  \n",
      "\u001b[34m\u001b[1mwandb\u001b[0m:   1 of 1 files downloaded.  \n",
      "\u001b[34m\u001b[1mwandb\u001b[0m:   1 of 1 files downloaded.  \n",
      "\u001b[34m\u001b[1mwandb\u001b[0m:   1 of 1 files downloaded.  \n",
      "\u001b[34m\u001b[1mwandb\u001b[0m:   1 of 1 files downloaded.  \n",
      "\u001b[34m\u001b[1mwandb\u001b[0m:   1 of 1 files downloaded.  \n",
      "\u001b[34m\u001b[1mwandb\u001b[0m:   1 of 1 files downloaded.  \n",
      "\u001b[34m\u001b[1mwandb\u001b[0m:   1 of 1 files downloaded.  \n",
      "\u001b[34m\u001b[1mwandb\u001b[0m:   1 of 1 files downloaded.  \n",
      "\u001b[34m\u001b[1mwandb\u001b[0m:   1 of 1 files downloaded.  \n",
      "\u001b[34m\u001b[1mwandb\u001b[0m:   1 of 1 files downloaded.  \n",
      "\u001b[34m\u001b[1mwandb\u001b[0m:   1 of 1 files downloaded.  \n",
      "\u001b[34m\u001b[1mwandb\u001b[0m:   1 of 1 files downloaded.  \n",
      "\u001b[34m\u001b[1mwandb\u001b[0m:   1 of 1 files downloaded.  \n",
      "\u001b[34m\u001b[1mwandb\u001b[0m:   1 of 1 files downloaded.  \n",
      "\u001b[34m\u001b[1mwandb\u001b[0m:   1 of 1 files downloaded.  \n",
      "\u001b[34m\u001b[1mwandb\u001b[0m:   1 of 1 files downloaded.  \n",
      "\u001b[34m\u001b[1mwandb\u001b[0m:   1 of 1 files downloaded.  \n",
      "\u001b[34m\u001b[1mwandb\u001b[0m:   1 of 1 files downloaded.  \n",
      "\u001b[34m\u001b[1mwandb\u001b[0m:   1 of 1 files downloaded.  \n",
      "\u001b[34m\u001b[1mwandb\u001b[0m:   1 of 1 files downloaded.  \n",
      "\u001b[34m\u001b[1mwandb\u001b[0m:   1 of 1 files downloaded.  \n",
      "\u001b[34m\u001b[1mwandb\u001b[0m:   1 of 1 files downloaded.  \n",
      "\u001b[34m\u001b[1mwandb\u001b[0m:   1 of 1 files downloaded.  \n",
      "\u001b[34m\u001b[1mwandb\u001b[0m:   1 of 1 files downloaded.  \n",
      "\u001b[34m\u001b[1mwandb\u001b[0m:   1 of 1 files downloaded.  \n",
      "\u001b[34m\u001b[1mwandb\u001b[0m:   1 of 1 files downloaded.  \n",
      "\u001b[34m\u001b[1mwandb\u001b[0m:   1 of 1 files downloaded.  \n",
      "\u001b[34m\u001b[1mwandb\u001b[0m:   1 of 1 files downloaded.  \n",
      "\u001b[34m\u001b[1mwandb\u001b[0m:   1 of 1 files downloaded.  \n",
      "\u001b[34m\u001b[1mwandb\u001b[0m:   1 of 1 files downloaded.  \n",
      "\u001b[34m\u001b[1mwandb\u001b[0m:   1 of 1 files downloaded.  \n",
      "\u001b[34m\u001b[1mwandb\u001b[0m:   1 of 1 files downloaded.  \n",
      "\u001b[34m\u001b[1mwandb\u001b[0m:   1 of 1 files downloaded.  \n",
      "\u001b[34m\u001b[1mwandb\u001b[0m:   1 of 1 files downloaded.  \n",
      "\u001b[34m\u001b[1mwandb\u001b[0m:   1 of 1 files downloaded.  \n",
      "\u001b[34m\u001b[1mwandb\u001b[0m:   1 of 1 files downloaded.  \n",
      "\u001b[34m\u001b[1mwandb\u001b[0m:   1 of 1 files downloaded.  \n",
      "\u001b[34m\u001b[1mwandb\u001b[0m:   1 of 1 files downloaded.  \n",
      "\u001b[34m\u001b[1mwandb\u001b[0m:   1 of 1 files downloaded.  \n",
      "\u001b[34m\u001b[1mwandb\u001b[0m:   1 of 1 files downloaded.  \n",
      "\u001b[34m\u001b[1mwandb\u001b[0m:   1 of 1 files downloaded.  \n",
      "\u001b[34m\u001b[1mwandb\u001b[0m:   1 of 1 files downloaded.  \n",
      "\u001b[34m\u001b[1mwandb\u001b[0m:   1 of 1 files downloaded.  \n",
      "\u001b[34m\u001b[1mwandb\u001b[0m:   1 of 1 files downloaded.  \n",
      "\u001b[34m\u001b[1mwandb\u001b[0m:   1 of 1 files downloaded.  \n",
      "\u001b[34m\u001b[1mwandb\u001b[0m:   1 of 1 files downloaded.  \n",
      "\u001b[34m\u001b[1mwandb\u001b[0m:   1 of 1 files downloaded.  \n",
      "\u001b[34m\u001b[1mwandb\u001b[0m:   1 of 1 files downloaded.  \n",
      "\u001b[34m\u001b[1mwandb\u001b[0m:   1 of 1 files downloaded.  \n",
      "\u001b[34m\u001b[1mwandb\u001b[0m:   1 of 1 files downloaded.  \n",
      "\u001b[34m\u001b[1mwandb\u001b[0m:   1 of 1 files downloaded.  \n",
      "\u001b[34m\u001b[1mwandb\u001b[0m:   1 of 1 files downloaded.  \n",
      "\u001b[34m\u001b[1mwandb\u001b[0m:   1 of 1 files downloaded.  \n",
      "\u001b[34m\u001b[1mwandb\u001b[0m:   1 of 1 files downloaded.  \n",
      "\u001b[34m\u001b[1mwandb\u001b[0m:   1 of 1 files downloaded.  \n",
      "\u001b[34m\u001b[1mwandb\u001b[0m:   1 of 1 files downloaded.  \n",
      "\u001b[34m\u001b[1mwandb\u001b[0m:   1 of 1 files downloaded.  \n",
      "\u001b[34m\u001b[1mwandb\u001b[0m:   1 of 1 files downloaded.  \n",
      "\u001b[34m\u001b[1mwandb\u001b[0m:   1 of 1 files downloaded.  \n",
      "\u001b[34m\u001b[1mwandb\u001b[0m:   1 of 1 files downloaded.  \n"
     ]
    }
   ],
   "source": [
    "api = wandb.Api()\n",
    "all_data = {}\n",
    "sweep = api.sweep(\"fosfrancesco/sweeps_JTB/ekr597pd\")\n",
    "# load the json dataset (to get the exact chords)\n",
    "with open(Path(\"data/jazz_tb/treebank.json\")) as f:\n",
    "    treebank_data = json.load(f)\n",
    "treebank_data = [e for e in treebank_data if e.get(\"trees\") is not None]\n",
    "tree_dicts = [e[\"trees\"][0][\"complete_constituent_tree\"] if e.get(\"trees\") is not None else None for e in treebank_data ]\n",
    "for run in sweep.runs:\n",
    "    piece = run.name.split(\"-\")[-1]\n",
    "    # download test_head_seqs artifact\n",
    "    artifact = api.artifact(f'fosfrancesco/sweeps_JTB/run-{run.id}-test_head_seqs:latest', type='run_table')\n",
    "    folder_path = artifact.download()\n",
    "    with open(Path(folder_path,\"test_head_seqs.table.json\")) as f:\n",
    "        data = json.load(f)\n",
    "    head_predicted = eval(data[\"data\"][0][0])[1:] # first element is for the root, we discard it\n",
    "    head_predicted_postp = eval(data[\"data\"][0][1])[1:]\n",
    "    head_truth = eval(data[\"data\"][0][2])[1:]\n",
    "    # download test_ctree artifact\n",
    "    artifact = api.artifact(f'fosfrancesco/sweeps_JTB/run-{run.id}-test_ctrees:latest', type='run_table')\n",
    "    folder_path = artifact.download()\n",
    "    with open(Path(folder_path,\"test_ctrees.table.json\")) as f:\n",
    "        data = json.load(f)\n",
    "    ctree_predicted = data[\"data\"][0][0]\n",
    "    ctree_truth = data[\"data\"][0][1]\n",
    "    # load the chord sequence\n",
    "    arcs, chord_sequence = parse_jht_to_dep_tree(tree_dicts[int(piece)-1])\n",
    "    assert len(chord_sequence) == len(head_predicted_postp) , f\"Chord sequence and head predicted have different length for piece {piece}, {len(chord_sequence)}!={len(head_predicted_postp)}\"\n",
    "    # save everything\n",
    "    all_data[piece] = {\"head_predicted\" : head_predicted,\n",
    "                       \"head_predicted_postp\" : head_predicted_postp,\n",
    "                       \"head_truth\" : head_truth,\n",
    "                       \"ctree_predicted\" : ctree_predicted,\n",
    "                       \"ctree_truth\" : ctree_truth,\n",
    "                       \"chords\" : chord_sequence,\n",
    "                       \"arcs:\": arcs}"
   ]
  },
  {
   "cell_type": "code",
   "execution_count": 29,
   "metadata": {},
   "outputs": [],
   "source": [
    "with open(Path('results/predicted_JHT.json'), 'w') as outfile:\n",
    "    json.dump(all_data, outfile)"
   ]
  },
  {
   "cell_type": "code",
   "execution_count": 14,
   "metadata": {},
   "outputs": [
    {
     "data": {
      "text/plain": [
       "38"
      ]
     },
     "execution_count": 14,
     "metadata": {},
     "output_type": "execute_result"
    }
   ],
   "source": [
    "from musicparser.data_loading import parse_jht_to_dep_tree\n",
    "\n",
    "# # add chord sequence to all data\n",
    "# with open(Path(\"data/jazz_tb/treebank.json\")) as f:\n",
    "#     treebank_data = json.load(f)\n",
    "# treebank_data = [e for e in treebank_data if e.get(\"trees\") is not None]\n",
    "# tree_dicts = [e[\"trees\"][0][\"complete_constituent_tree\"] if e.get(\"trees\") is not None else None for e in treebank_data ]\n",
    "# d_arc, ch = parse_jht_to_dep_tree(tree_dicts[149])\n",
    "# len(ch)\n",
    "\n"
   ]
  },
  {
   "cell_type": "code",
   "execution_count": 23,
   "metadata": {},
   "outputs": [
    {
     "name": "stdout",
     "output_type": "stream",
     "text": [
      "0, 2, 17, 4, 5, 6, 7, 8, 9, 12, 12, 12, 13, 14, 15, 17, 17, 38, 19, 38, 21, 23, 23, 25, 25, 26, 28, 28, 30, 30, 31, 32, 38, 34, 35, 36, 38, 38, 0]\n",
      "['Am6', 'Am6', 'Abo7', 'Abo7', 'Gm7', 'C7', 'F^7', 'F^7', 'F^7', 'Fm7', 'Bb7', 'Em7', 'A7', 'D7', 'D7', 'Dm7', 'G7', 'Am6', 'Am6', 'Abo7', 'Abo7', 'Gm7', 'C7', 'F^7', 'F^7', 'F^7', 'Fm7', 'Bb7', 'Em7', 'Am7', 'Dm7', 'G7', 'Em7', 'A7', 'Dm7', 'G7', 'C6', 'C6']\n",
      "146 38\n"
     ]
    }
   ],
   "source": []
  },
  {
   "cell_type": "code",
   "execution_count": 25,
   "metadata": {},
   "outputs": [
    {
     "data": {
      "text/plain": [
       "'[[1, 2], [[[[[[[[[[[3, 4], 5], 6], 7], 8], 9], [10, [11, 12]]], 13], 14], 15], [16, 17]]], [[18, 19], [[[[[[[[[20, 21], [22, 23]], [24, 25]], 26], [27, 28]], [29, 30]], 31], 32], [[[[33, 34], 35], 36], [37, 38]]]]]'"
      ]
     },
     "execution_count": 25,
     "metadata": {},
     "output_type": "execute_result"
    }
   ],
   "source": []
  },
  {
   "cell_type": "code",
   "execution_count": 67,
   "metadata": {},
   "outputs": [
    {
     "data": {
      "text/html": [
       "<span class=\"tex2jax_ignore\"><svg xmlns=\"http://www.w3.org/2000/svg\" xmlns:xlink=\"http://www.w3.org/1999/xlink\" xml:lang=\"en\" id=\"f9ac2e821bdd415e92ca016fb68d9a2c-0\" class=\"displacy\" width=\"1010\" height=\"181.0\" direction=\"ltr\" style=\"max-width: none; height: 181.0px; color: #000000; background: #ffffff; font-family: Arial; direction: ltr\">\n",
       "<text class=\"displacy-token\" fill=\"currentColor\" text-anchor=\"middle\" y=\"141.0\">\n",
       "    <tspan class=\"displacy-word\" fill=\"currentColor\" x=\"50\">C#m7</tspan>\n",
       "    <tspan class=\"displacy-tag\" dy=\"2em\" fill=\"currentColor\" x=\"50\"></tspan>\n",
       "</text>\n",
       "\n",
       "<text class=\"displacy-token\" fill=\"currentColor\" text-anchor=\"middle\" y=\"141.0\">\n",
       "    <tspan class=\"displacy-word\" fill=\"currentColor\" x=\"130\">C#m7</tspan>\n",
       "    <tspan class=\"displacy-tag\" dy=\"2em\" fill=\"currentColor\" x=\"130\"></tspan>\n",
       "</text>\n",
       "\n",
       "<text class=\"displacy-token\" fill=\"currentColor\" text-anchor=\"middle\" y=\"141.0\">\n",
       "    <tspan class=\"displacy-word\" fill=\"currentColor\" x=\"210\">C#m7</tspan>\n",
       "    <tspan class=\"displacy-tag\" dy=\"2em\" fill=\"currentColor\" x=\"210\"></tspan>\n",
       "</text>\n",
       "\n",
       "<text class=\"displacy-token\" fill=\"currentColor\" text-anchor=\"middle\" y=\"141.0\">\n",
       "    <tspan class=\"displacy-word\" fill=\"currentColor\" x=\"290\">C#m7</tspan>\n",
       "    <tspan class=\"displacy-tag\" dy=\"2em\" fill=\"currentColor\" x=\"290\"></tspan>\n",
       "</text>\n",
       "\n",
       "<text class=\"displacy-token\" fill=\"currentColor\" text-anchor=\"middle\" y=\"141.0\">\n",
       "    <tspan class=\"displacy-word\" fill=\"currentColor\" x=\"370\">F#m7</tspan>\n",
       "    <tspan class=\"displacy-tag\" dy=\"2em\" fill=\"currentColor\" x=\"370\"></tspan>\n",
       "</text>\n",
       "\n",
       "<text class=\"displacy-token\" fill=\"currentColor\" text-anchor=\"middle\" y=\"141.0\">\n",
       "    <tspan class=\"displacy-word\" fill=\"currentColor\" x=\"450\">F#m7</tspan>\n",
       "    <tspan class=\"displacy-tag\" dy=\"2em\" fill=\"currentColor\" x=\"450\"></tspan>\n",
       "</text>\n",
       "\n",
       "<text class=\"displacy-token\" fill=\"currentColor\" text-anchor=\"middle\" y=\"141.0\">\n",
       "    <tspan class=\"displacy-word\" fill=\"currentColor\" x=\"530\">C#m7</tspan>\n",
       "    <tspan class=\"displacy-tag\" dy=\"2em\" fill=\"currentColor\" x=\"530\"></tspan>\n",
       "</text>\n",
       "\n",
       "<text class=\"displacy-token\" fill=\"currentColor\" text-anchor=\"middle\" y=\"141.0\">\n",
       "    <tspan class=\"displacy-word\" fill=\"currentColor\" x=\"610\">C#m7</tspan>\n",
       "    <tspan class=\"displacy-tag\" dy=\"2em\" fill=\"currentColor\" x=\"610\"></tspan>\n",
       "</text>\n",
       "\n",
       "<text class=\"displacy-token\" fill=\"currentColor\" text-anchor=\"middle\" y=\"141.0\">\n",
       "    <tspan class=\"displacy-word\" fill=\"currentColor\" x=\"690\">A7</tspan>\n",
       "    <tspan class=\"displacy-tag\" dy=\"2em\" fill=\"currentColor\" x=\"690\"></tspan>\n",
       "</text>\n",
       "\n",
       "<text class=\"displacy-token\" fill=\"currentColor\" text-anchor=\"middle\" y=\"141.0\">\n",
       "    <tspan class=\"displacy-word\" fill=\"currentColor\" x=\"770\">G#7</tspan>\n",
       "    <tspan class=\"displacy-tag\" dy=\"2em\" fill=\"currentColor\" x=\"770\"></tspan>\n",
       "</text>\n",
       "\n",
       "<text class=\"displacy-token\" fill=\"currentColor\" text-anchor=\"middle\" y=\"141.0\">\n",
       "    <tspan class=\"displacy-word\" fill=\"currentColor\" x=\"850\">C#m7</tspan>\n",
       "    <tspan class=\"displacy-tag\" dy=\"2em\" fill=\"currentColor\" x=\"850\"></tspan>\n",
       "</text>\n",
       "\n",
       "<text class=\"displacy-token\" fill=\"currentColor\" text-anchor=\"middle\" y=\"141.0\">\n",
       "    <tspan class=\"displacy-word\" fill=\"currentColor\" x=\"930\">C#m7</tspan>\n",
       "    <tspan class=\"displacy-tag\" dy=\"2em\" fill=\"currentColor\" x=\"930\"></tspan>\n",
       "</text>\n",
       "\n",
       "<g class=\"displacy-arrow\">\n",
       "    <path class=\"displacy-arc\" id=\"arrow-f9ac2e821bdd415e92ca016fb68d9a2c-0-0\" stroke-width=\"1px\" d=\"M70,121.0 C70,81.0 120.0,81.0 120.0,121.0\" fill=\"none\" stroke=\"currentColor\"/>\n",
       "    <text dy=\"1.25em\" style=\"font-size: 0.8em; letter-spacing: 1px\">\n",
       "        <textPath xlink:href=\"#arrow-f9ac2e821bdd415e92ca016fb68d9a2c-0-0\" class=\"displacy-label\" startOffset=\"50%\" side=\"left\" fill=\"currentColor\" text-anchor=\"middle\"></textPath>\n",
       "    </text>\n",
       "    <path class=\"displacy-arrowhead\" d=\"M120.0,123.0 L124.0,115.0 116.0,115.0\" fill=\"currentColor\"/>\n",
       "</g>\n",
       "\n",
       "<g class=\"displacy-arrow\">\n",
       "    <path class=\"displacy-arc\" id=\"arrow-f9ac2e821bdd415e92ca016fb68d9a2c-0-1\" stroke-width=\"1px\" d=\"M150,121.0 C150,41.0 285.0,41.0 285.0,121.0\" fill=\"none\" stroke=\"currentColor\"/>\n",
       "    <text dy=\"1.25em\" style=\"font-size: 0.8em; letter-spacing: 1px\">\n",
       "        <textPath xlink:href=\"#arrow-f9ac2e821bdd415e92ca016fb68d9a2c-0-1\" class=\"displacy-label\" startOffset=\"50%\" side=\"left\" fill=\"currentColor\" text-anchor=\"middle\"></textPath>\n",
       "    </text>\n",
       "    <path class=\"displacy-arrowhead\" d=\"M285.0,123.0 L289.0,115.0 281.0,115.0\" fill=\"currentColor\"/>\n",
       "</g>\n",
       "\n",
       "<g class=\"displacy-arrow\">\n",
       "    <path class=\"displacy-arc\" id=\"arrow-f9ac2e821bdd415e92ca016fb68d9a2c-0-2\" stroke-width=\"1px\" d=\"M230,121.0 C230,81.0 280.0,81.0 280.0,121.0\" fill=\"none\" stroke=\"currentColor\"/>\n",
       "    <text dy=\"1.25em\" style=\"font-size: 0.8em; letter-spacing: 1px\">\n",
       "        <textPath xlink:href=\"#arrow-f9ac2e821bdd415e92ca016fb68d9a2c-0-2\" class=\"displacy-label\" startOffset=\"50%\" side=\"left\" fill=\"currentColor\" text-anchor=\"middle\"></textPath>\n",
       "    </text>\n",
       "    <path class=\"displacy-arrowhead\" d=\"M280.0,123.0 L284.0,115.0 276.0,115.0\" fill=\"currentColor\"/>\n",
       "</g>\n",
       "\n",
       "<g class=\"displacy-arrow\">\n",
       "    <path class=\"displacy-arc\" id=\"arrow-f9ac2e821bdd415e92ca016fb68d9a2c-0-3\" stroke-width=\"1px\" d=\"M310,121.0 C310,1.0 610.0,1.0 610.0,121.0\" fill=\"none\" stroke=\"currentColor\"/>\n",
       "    <text dy=\"1.25em\" style=\"font-size: 0.8em; letter-spacing: 1px\">\n",
       "        <textPath xlink:href=\"#arrow-f9ac2e821bdd415e92ca016fb68d9a2c-0-3\" class=\"displacy-label\" startOffset=\"50%\" side=\"left\" fill=\"currentColor\" text-anchor=\"middle\"></textPath>\n",
       "    </text>\n",
       "    <path class=\"displacy-arrowhead\" d=\"M610.0,123.0 L614.0,115.0 606.0,115.0\" fill=\"currentColor\"/>\n",
       "</g>\n",
       "\n",
       "<g class=\"displacy-arrow\">\n",
       "    <path class=\"displacy-arc\" id=\"arrow-f9ac2e821bdd415e92ca016fb68d9a2c-0-4\" stroke-width=\"1px\" d=\"M390,121.0 C390,81.0 440.0,81.0 440.0,121.0\" fill=\"none\" stroke=\"currentColor\"/>\n",
       "    <text dy=\"1.25em\" style=\"font-size: 0.8em; letter-spacing: 1px\">\n",
       "        <textPath xlink:href=\"#arrow-f9ac2e821bdd415e92ca016fb68d9a2c-0-4\" class=\"displacy-label\" startOffset=\"50%\" side=\"left\" fill=\"currentColor\" text-anchor=\"middle\"></textPath>\n",
       "    </text>\n",
       "    <path class=\"displacy-arrowhead\" d=\"M440.0,123.0 L444.0,115.0 436.0,115.0\" fill=\"currentColor\"/>\n",
       "</g>\n",
       "\n",
       "<g class=\"displacy-arrow\">\n",
       "    <path class=\"displacy-arc\" id=\"arrow-f9ac2e821bdd415e92ca016fb68d9a2c-0-5\" stroke-width=\"1px\" d=\"M470,121.0 C470,41.0 605.0,41.0 605.0,121.0\" fill=\"none\" stroke=\"currentColor\"/>\n",
       "    <text dy=\"1.25em\" style=\"font-size: 0.8em; letter-spacing: 1px\">\n",
       "        <textPath xlink:href=\"#arrow-f9ac2e821bdd415e92ca016fb68d9a2c-0-5\" class=\"displacy-label\" startOffset=\"50%\" side=\"left\" fill=\"currentColor\" text-anchor=\"middle\"></textPath>\n",
       "    </text>\n",
       "    <path class=\"displacy-arrowhead\" d=\"M605.0,123.0 L609.0,115.0 601.0,115.0\" fill=\"currentColor\"/>\n",
       "</g>\n",
       "\n",
       "<g class=\"displacy-arrow\">\n",
       "    <path class=\"displacy-arc\" id=\"arrow-f9ac2e821bdd415e92ca016fb68d9a2c-0-6\" stroke-width=\"1px\" d=\"M550,121.0 C550,81.0 600.0,81.0 600.0,121.0\" fill=\"none\" stroke=\"currentColor\"/>\n",
       "    <text dy=\"1.25em\" style=\"font-size: 0.8em; letter-spacing: 1px\">\n",
       "        <textPath xlink:href=\"#arrow-f9ac2e821bdd415e92ca016fb68d9a2c-0-6\" class=\"displacy-label\" startOffset=\"50%\" side=\"left\" fill=\"currentColor\" text-anchor=\"middle\"></textPath>\n",
       "    </text>\n",
       "    <path class=\"displacy-arrowhead\" d=\"M600.0,123.0 L604.0,115.0 596.0,115.0\" fill=\"currentColor\"/>\n",
       "</g>\n",
       "\n",
       "<g class=\"displacy-arrow\">\n",
       "    <path class=\"displacy-arc\" id=\"arrow-f9ac2e821bdd415e92ca016fb68d9a2c-0-7\" stroke-width=\"1px\" d=\"M630,121.0 C630,1.0 930.0,1.0 930.0,121.0\" fill=\"none\" stroke=\"currentColor\"/>\n",
       "    <text dy=\"1.25em\" style=\"font-size: 0.8em; letter-spacing: 1px\">\n",
       "        <textPath xlink:href=\"#arrow-f9ac2e821bdd415e92ca016fb68d9a2c-0-7\" class=\"displacy-label\" startOffset=\"50%\" side=\"left\" fill=\"currentColor\" text-anchor=\"middle\"></textPath>\n",
       "    </text>\n",
       "    <path class=\"displacy-arrowhead\" d=\"M930.0,123.0 L934.0,115.0 926.0,115.0\" fill=\"currentColor\"/>\n",
       "</g>\n",
       "\n",
       "<g class=\"displacy-arrow\">\n",
       "    <path class=\"displacy-arc\" id=\"arrow-f9ac2e821bdd415e92ca016fb68d9a2c-0-8\" stroke-width=\"1px\" d=\"M710,121.0 C710,81.0 760.0,81.0 760.0,121.0\" fill=\"none\" stroke=\"currentColor\"/>\n",
       "    <text dy=\"1.25em\" style=\"font-size: 0.8em; letter-spacing: 1px\">\n",
       "        <textPath xlink:href=\"#arrow-f9ac2e821bdd415e92ca016fb68d9a2c-0-8\" class=\"displacy-label\" startOffset=\"50%\" side=\"left\" fill=\"currentColor\" text-anchor=\"middle\"></textPath>\n",
       "    </text>\n",
       "    <path class=\"displacy-arrowhead\" d=\"M760.0,123.0 L764.0,115.0 756.0,115.0\" fill=\"currentColor\"/>\n",
       "</g>\n",
       "\n",
       "<g class=\"displacy-arrow\">\n",
       "    <path class=\"displacy-arc\" id=\"arrow-f9ac2e821bdd415e92ca016fb68d9a2c-0-9\" stroke-width=\"1px\" d=\"M790,121.0 C790,41.0 925.0,41.0 925.0,121.0\" fill=\"none\" stroke=\"currentColor\"/>\n",
       "    <text dy=\"1.25em\" style=\"font-size: 0.8em; letter-spacing: 1px\">\n",
       "        <textPath xlink:href=\"#arrow-f9ac2e821bdd415e92ca016fb68d9a2c-0-9\" class=\"displacy-label\" startOffset=\"50%\" side=\"left\" fill=\"currentColor\" text-anchor=\"middle\"></textPath>\n",
       "    </text>\n",
       "    <path class=\"displacy-arrowhead\" d=\"M925.0,123.0 L929.0,115.0 921.0,115.0\" fill=\"currentColor\"/>\n",
       "</g>\n",
       "\n",
       "<g class=\"displacy-arrow\">\n",
       "    <path class=\"displacy-arc\" id=\"arrow-f9ac2e821bdd415e92ca016fb68d9a2c-0-10\" stroke-width=\"1px\" d=\"M870,121.0 C870,81.0 920.0,81.0 920.0,121.0\" fill=\"none\" stroke=\"currentColor\"/>\n",
       "    <text dy=\"1.25em\" style=\"font-size: 0.8em; letter-spacing: 1px\">\n",
       "        <textPath xlink:href=\"#arrow-f9ac2e821bdd415e92ca016fb68d9a2c-0-10\" class=\"displacy-label\" startOffset=\"50%\" side=\"left\" fill=\"currentColor\" text-anchor=\"middle\"></textPath>\n",
       "    </text>\n",
       "    <path class=\"displacy-arrowhead\" d=\"M920.0,123.0 L924.0,115.0 916.0,115.0\" fill=\"currentColor\"/>\n",
       "</g>\n",
       "</svg></span>"
      ],
      "text/plain": [
       "<IPython.core.display.HTML object>"
      ]
     },
     "metadata": {},
     "output_type": "display_data"
    }
   ],
   "source": [
    "from spacy import displacy\n",
    "\n",
    "piece_data = all_data[\"2\"]\n",
    "\n",
    "spacy_words = [{\"text\": chord, \"tag\": \"\"} for chord in piece_data[\"chords\"]]\n",
    "spacy_arcs = []\n",
    "for start_ix, end_ix in enumerate(piece_data[\"head_truth\"]):\n",
    "    if end_ix == 0:\n",
    "        continue # skip root\n",
    "    if start_ix < end_ix-1:\n",
    "        spacy_arcs.append({\"start\": start_ix, \"end\": end_ix-1, \"label\": \"\", \"dir\": \"right\"})\n",
    "    else:\n",
    "        spacy_arcs.append({\"start\": end_ix-1, \"end\": start_ix, \"label\": \"\", \"dir\": \"left\"})\n",
    "\n",
    "\n",
    "spacy_dict = {\"words\": spacy_words, \"arcs\": spacy_arcs}\n",
    "displacy.render(spacy_dict, style='dep', jupyter=True, manual=True, options={\"compact\": False, \"distance\": 80, \"arrow_stroke\":1, \"arrow_width\":6, \"word_spacing\":20})\n"
   ]
  },
  {
   "cell_type": "code",
   "execution_count": 72,
   "metadata": {},
   "outputs": [],
   "source": [
    "for piece in all_data:\n",
    "    piece_data = all_data[piece]\n",
    "    title = titles[int(piece)-1]\n",
    "    spacy_words = [{\"text\": chord, \"tag\": \"\"} for chord in piece_data[\"chords\"]]\n",
    "    spacy_arcs = []\n",
    "    for start_ix, end_ix in enumerate(piece_data[\"head_truth\"]):\n",
    "        if end_ix == 0:\n",
    "            continue # skip root\n",
    "        if start_ix < end_ix-1:\n",
    "            spacy_arcs.append({\"start\": start_ix, \"end\": end_ix-1, \"label\": \"\", \"dir\": \"right\"})\n",
    "        else:\n",
    "            spacy_arcs.append({\"start\": end_ix-1, \"end\": start_ix, \"label\": \"\", \"dir\": \"left\"})\n",
    "\n",
    "\n",
    "    spacy_dict = {\"words\": spacy_words, \"arcs\": spacy_arcs}\n",
    "    render_options = {\"compact\": False, \"distance\": 80, \"arrow_stroke\":1, \"arrow_width\":6, \"word_spacing\":20}\n",
    "    rendered_tree = displacy.render(spacy_dict, style='dep', jupyter=False, manual=True, options=render_options)\n",
    "    output_path = Path(f\"./results/rendered_JHT/dependency_trees/ground_truth/{title}.svg\")\n",
    "    with output_path.open(\"w\", encoding=\"utf-8\") as f:\n",
    "        f.write(rendered_tree)"
   ]
  },
  {
   "cell_type": "code",
   "execution_count": 74,
   "metadata": {},
   "outputs": [],
   "source": [
    "# generate the markdown automatically\n",
    "# for each piece use the template\n",
    "# ## Title\n",
    "# ### Ground Truth\n",
    "# <img src=\"../results/rendered_JHT/dependency_trees/ground_truth/title.svg\"> \n",
    "\n",
    "# ### Predicted with no postprocessing\n",
    "# <img src=\"../results/rendered_JHT/dependency_trees/predicted_no_postprocessing/title.svg\"> \n",
    "\n",
    "# ### Predicted with postprocessing\n",
    "# <img src=\"../results/rendered_JHT/dependency_trees/predicted_postprocessing/title.svg\"> \n",
    "\n",
    "markdown = \"\"\n",
    "# add the css style \n",
    "# <style>\n",
    "#     img {\n",
    "#         max-width: 2000%;\n",
    "#         overflow: auto;\n",
    "#     }\n",
    "# </style>\n",
    "markdown += \"<style> img { max-width: 2000%; overflow-x: scroll; } </style>\\n\"\n",
    "for piece in all_data:\n",
    "      title = titles[int(piece)-1]\n",
    "      markdown += f\"## {title}\\n\"\n",
    "      markdown += f\"### Ground Truth\\n\"\n",
    "      markdown += f\"<img src=\\\"../results/rendered_JHT/dependency_trees/ground_truth/{title}.svg\\\"> \\n \\n\"\n",
    "      markdown += f\"### Predicted with no postprocessing\\n\"\n",
    "      markdown += f\"<img src=\\\"../results/rendered_JHT/dependency_trees/predicted_no_postprocessing/{title}.svg\\\"> \\n \\n\"\n",
    "      markdown += f\"### Predicted with postprocessing\\n\"\n",
    "      markdown += f\"<img src=\\\"../results/rendered_JHT/dependency_trees/predicted_postprocessing/{title}.svg\\\"> \\n \\n\"\n",
    "\n",
    "# save the markdown in the result folder\n",
    "with open(Path(\"results/rendered_JHT.md\"), \"w\") as f:\n",
    "      f.write(markdown)\n",
    "    "
   ]
  },
  {
   "cell_type": "code",
   "execution_count": 45,
   "metadata": {},
   "outputs": [
    {
     "data": {
      "text/plain": [
       "'[0, 2, 17, 4, 5, 6, 7, 8, 9, 12, 12, 12, 13, 14, 15, 17, 17, 38, 19, 38, 21, 23, 23, 25, 25, 26, 28, 28, 30, 30, 31, 32, 38, 34, 35, 36, 38, 38, 0]'"
      ]
     },
     "execution_count": 45,
     "metadata": {},
     "output_type": "execute_result"
    }
   ],
   "source": [
    "predicted"
   ]
  }
 ],
 "metadata": {
  "kernelspec": {
   "display_name": "musicparser",
   "language": "python",
   "name": "python3"
  },
  "language_info": {
   "codemirror_mode": {
    "name": "ipython",
    "version": 3
   },
   "file_extension": ".py",
   "mimetype": "text/x-python",
   "name": "python",
   "nbconvert_exporter": "python",
   "pygments_lexer": "ipython3",
   "version": "3.9.16"
  },
  "orig_nbformat": 4,
  "vscode": {
   "interpreter": {
    "hash": "f3a1a0e504c45797285725e128e1e34f180816d6a494b26a6972fe05249266b4"
   }
  }
 },
 "nbformat": 4,
 "nbformat_minor": 2
}
