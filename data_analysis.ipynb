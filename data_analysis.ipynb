{
 "cells": [
  {
   "cell_type": "code",
   "execution_count": 25,
   "metadata": {},
   "outputs": [
    {
     "name": "stderr",
     "output_type": "stream",
     "text": [
      "/share/home/francesco/miniconda3/envs/musicparser/lib/python3.9/site-packages/tqdm/auto.py:22: TqdmWarning: IProgress not found. Please update jupyter and ipywidgets. See https://ipywidgets.readthedocs.io/en/stable/user_install.html\n",
      "  from .autonotebook import tqdm as notebook_tqdm\n"
     ]
    },
    {
     "ename": "ImportError",
     "evalue": "cannot import name 'eisner_slow' from 'musicparser.postprocessing' (/share/home/francesco/musicparser/musicparser/postprocessing.py)",
     "output_type": "error",
     "traceback": [
      "\u001b[0;31m---------------------------------------------------------------------------\u001b[0m",
      "\u001b[0;31mImportError\u001b[0m                               Traceback (most recent call last)",
      "Cell \u001b[0;32mIn[25], line 5\u001b[0m\n\u001b[1;32m      3\u001b[0m \u001b[39mfrom\u001b[39;00m \u001b[39mmusicparser\u001b[39;00m\u001b[39m.\u001b[39;00m\u001b[39mdata_loading\u001b[39;00m \u001b[39mimport\u001b[39;00m JTBDataModule\n\u001b[1;32m      4\u001b[0m \u001b[39mfrom\u001b[39;00m \u001b[39mmusicparser\u001b[39;00m\u001b[39m.\u001b[39;00m\u001b[39mmodels\u001b[39;00m \u001b[39mimport\u001b[39;00m ArcPredictionLightModel\n\u001b[0;32m----> 5\u001b[0m \u001b[39mfrom\u001b[39;00m \u001b[39mmusicparser\u001b[39;00m\u001b[39m.\u001b[39;00m\u001b[39mpostprocessing\u001b[39;00m \u001b[39mimport\u001b[39;00m eisner_fast, eisner_slow\n\u001b[1;32m      6\u001b[0m \u001b[39mfrom\u001b[39;00m \u001b[39mpytorch_lightning\u001b[39;00m \u001b[39mimport\u001b[39;00m Trainer\n\u001b[1;32m      7\u001b[0m \u001b[39mimport\u001b[39;00m \u001b[39mos\u001b[39;00m\n",
      "\u001b[0;31mImportError\u001b[0m: cannot import name 'eisner_slow' from 'musicparser.postprocessing' (/share/home/francesco/musicparser/musicparser/postprocessing.py)"
     ]
    }
   ],
   "source": [
    "from musicparser.data_loading import JTBDataset\n",
    "import wandb\n",
    "from musicparser.data_loading import JTBDataModule\n",
    "from musicparser.models import ArcPredictionLightModel\n",
    "from musicparser.postprocessing import eisner_fast, eisner_slow\n",
    "from pytorch_lightning import Trainer\n",
    "import os\n",
    "import torch\n",
    "import numpy as np"
   ]
  },
  {
   "cell_type": "code",
   "execution_count": 2,
   "metadata": {},
   "outputs": [
    {
     "name": "stdout",
     "output_type": "stream",
     "text": [
      "Loading open tree data...\n",
      "Done loading data. 0 out of 150 pieces were discarded because of errors.\n"
     ]
    }
   ],
   "source": [
    "dataset = JTBDataset(\"data/jazz_tb/treebank.json\", data_augmentation=\"preprocess\", only_tree=True, tree_type=\"open\",n_jobs=1)"
   ]
  },
  {
   "cell_type": "code",
   "execution_count": null,
   "metadata": {},
   "outputs": [],
   "source": []
  },
  {
   "cell_type": "code",
   "execution_count": 3,
   "metadata": {},
   "outputs": [
    {
     "data": {
      "text/plain": [
       "'Blue In Green'"
      ]
     },
     "execution_count": 3,
     "metadata": {},
     "output_type": "execute_result"
    }
   ],
   "source": [
    "dataset.titles[8]"
   ]
  },
  {
   "cell_type": "code",
   "execution_count": 4,
   "metadata": {},
   "outputs": [
    {
     "data": {
      "text/plain": [
       "(16, 5)"
      ]
     },
     "execution_count": 4,
     "metadata": {},
     "output_type": "execute_result"
    }
   ],
   "source": [
    "dataset.chords_features[8].shape"
   ]
  },
  {
   "cell_type": "code",
   "execution_count": 5,
   "metadata": {},
   "outputs": [],
   "source": [
    "# run = wandb.init()\n",
    "# artifact = run.use_artifact('fosfrancesco/loo_JTB/model-go1417zv:v0', type='model')\n",
    "# artifact_dir = artifact.download()\n",
    "\n",
    "artifact_dir = \"artifacts/model-go1417zv:v0\""
   ]
  },
  {
   "cell_type": "code",
   "execution_count": 45,
   "metadata": {},
   "outputs": [
    {
     "name": "stdout",
     "output_type": "stream",
     "text": [
      "Loading complete tree data...\n",
      "Done loading data. 0 out of 150 pieces were discarded because of errors.\n",
      "Augmenting data...\n",
      "Augmenting data...\n",
      "Train size :1788, Val size :1, Test size :1\n",
      "No pretraining data\n"
     ]
    },
    {
     "name": "stderr",
     "output_type": "stream",
     "text": [
      "GPU available: True (cuda), used: True\n",
      "TPU available: False, using: 0 TPU cores\n",
      "IPU available: False, using: 0 IPUs\n",
      "HPU available: False, using: 0 HPUs\n",
      "LOCAL_RANK: 0 - CUDA_VISIBLE_DEVICES: [0,1,2,3]\n",
      "/share/home/francesco/miniconda3/envs/musicparser/lib/python3.9/site-packages/pytorch_lightning/trainer/connectors/data_connector.py:224: PossibleUserWarning: The dataloader, predict_dataloader 0, does not have many workers which may be a bottleneck. Consider increasing the value of the `num_workers` argument` (try 40 which is the number of cpus on this machine) in the `DataLoader` init to improve performance.\n",
      "  rank_zero_warn(\n"
     ]
    },
    {
     "name": "stdout",
     "output_type": "stream",
     "text": [
      "Predicting: 0it [00:00, ?it/s]"
     ]
    }
   ],
   "source": [
    "datamodule = JTBDataModule(batch_size=1, num_workers=1, data_augmentation=\"preprocess\", only_tree=True, loo_index=8)\n",
    "datamodule.setup()\n",
    "model = ArcPredictionLightModel.load_from_checkpoint(checkpoint_path=os.path.join(os.path.normpath(artifact_dir), \"model.ckpt\"))\n",
    "\n",
    "wandb_logger = True\n",
    "\n",
    "trainer = Trainer(\n",
    "    max_epochs=60, accelerator=\"auto\", devices= [0], #strategy=\"ddp\",\n",
    "    num_sanity_val_steps=1,\n",
    "    logger=wandb_logger,\n",
    "    deterministic=True\n",
    "    )\n",
    "\n",
    "# trainer.tune(model, datamodule=datamodule)\n",
    "# print(\"LR set to\", model.lr)\n",
    "out_dict= trainer.predict(model, dataloaders=datamodule.test_dataloader())[0]"
   ]
  },
  {
   "cell_type": "code",
   "execution_count": 20,
   "metadata": {},
   "outputs": [],
   "source": [
    "import pandas as pd \n",
    "import wandb\n",
    "api = wandb.Api()\n",
    "\n",
    "# Project is specified by <entity/project-name>\n",
    "runs = api.runs(path = \"fosfrancesco/sweeps_JTB\")\n",
    "# filters={\"config.group\": \"LOO1\"}\n",
    "\n",
    "summary_list, config_list, name_list = [], [], []\n",
    "for run in runs: \n",
    "    # .summary contains the output keys/values for metrics like accuracy.\n",
    "    #  We call ._json_dict to omit large files\n",
    "    summary_list.append(run.summary._json_dict)\n",
    "\n",
    "    # .config contains the hyperparameters.\n",
    "    #  We remove special values that start with _.\n",
    "    config_list.append(\n",
    "        {k: v for k,v in run.config.items()\n",
    "        if not k.startswith('_')})\n",
    "\n",
    "    # .name is the human-readable name of the run.\n",
    "    name_list.append(run.name)\n",
    "    \n",
    "\n",
    "runs_df = pd.DataFrame({\n",
    "    \"summary\": summary_list,\n",
    "    \"config\": config_list,\n",
    "    \"name\": name_list\n",
    "    })\n",
    "\n",
    "runs_df.to_csv(\"project.csv\")"
   ]
  },
  {
   "cell_type": "code",
   "execution_count": 23,
   "metadata": {},
   "outputs": [
    {
     "data": {
      "text/plain": [
       "{'epoch': 60,\n",
       " 'test_ctrees': {'_type': 'table-file',\n",
       "  'ncols': 2,\n",
       "  'nrows': 1,\n",
       "  'sha256': '742bb1ea839f0cbf52ed9e8245bd0aee409171d7d56846f84a472d6e7c9e0f7a',\n",
       "  'artifact_path': 'wandb-client-artifact://4t2m2q1w42c5ysyv54wvg6hgzio2qremiq7s3x0hxvl6kz4e8roq4k8r253fs7lkske93db6f8fxtciajt8bdco308spxr1609o6or38nvljnc5r77tb8c117zvc0xk1:latest/test_ctrees.table.json',\n",
       "  '_latest_artifact_path': 'wandb-client-artifact://4t2m2q1w42c5ysyv54wvg6hgzio2qremiq7s3x0hxvl6kz4e8roq4k8r253fs7lkske93db6f8fxtciajt8bdco308spxr1609o6or38nvljnc5r77tb8c117zvc0xk1:latest/test_ctrees.table.json',\n",
       "  'path': 'media/table/test_ctrees_4533_742bb1ea839f0cbf52ed.table.json',\n",
       "  'size': 492},\n",
       " 'test_head_seqs': {'ncols': 3,\n",
       "  'nrows': 1,\n",
       "  'sha256': '6a1fc272f7dbcc0fe8e7160f40c12d3dca28ad7dcdd539cbd595a1fc16619f30',\n",
       "  'artifact_path': 'wandb-client-artifact://4v642fo375lygoqegmzd80oe7vbb6dntzxpad1m6nrwyj33ydkxw2dspvptp6wpjf4d78j3j2mnzs6rqoeiykj1m59qzgyetph63ymkgjp0wi62z9s3owwp35wmb6rmb:latest/test_head_seqs.table.json',\n",
       "  '_latest_artifact_path': 'wandb-client-artifact://4v642fo375lygoqegmzd80oe7vbb6dntzxpad1m6nrwyj33ydkxw2dspvptp6wpjf4d78j3j2mnzs6rqoeiykj1m59qzgyetph63ymkgjp0wi62z9s3owwp35wmb6rmb:latest/test_head_seqs.table.json',\n",
       "  'path': 'media/table/test_head_seqs_4532_6a1fc272f7dbcc0fe8e7.table.json',\n",
       "  'size': 528,\n",
       "  '_type': 'table-file'},\n",
       " 'val_arc_accuracy_postp': 0.6756756901741028,\n",
       " 'ctrees': {'_latest_artifact_path': 'wandb-client-artifact://qnu98flru9l3q6uz03ei3af51f7fayv774d77bgk8tx0opjxxfu0vh28d2kvxpinepkpzcuvmgxs48c31xs4wedjzw5o9lcvkdn6fjxjlfzcfbn7n0pr73eac64prc0w:latest/ctrees.table.json',\n",
       "  'path': 'media/table/ctrees_4529_742bb1ea839f0cbf52ed.table.json',\n",
       "  'size': 492,\n",
       "  '_type': 'table-file',\n",
       "  'ncols': 2,\n",
       "  'nrows': 1,\n",
       "  'sha256': '742bb1ea839f0cbf52ed9e8245bd0aee409171d7d56846f84a472d6e7c9e0f7a',\n",
       "  'artifact_path': 'wandb-client-artifact://qnu98flru9l3q6uz03ei3af51f7fayv774d77bgk8tx0opjxxfu0vh28d2kvxpinepkpzcuvmgxs48c31xs4wedjzw5o9lcvkdn6fjxjlfzcfbn7n0pr73eac64prc0w:latest/ctrees.table.json'},\n",
       " 'lr-AdamW': 8.241107392059631e-11,\n",
       " 'head_seqs': {'ncols': 3,\n",
       "  'nrows': 1,\n",
       "  'sha256': '6a1fc272f7dbcc0fe8e7160f40c12d3dca28ad7dcdd539cbd595a1fc16619f30',\n",
       "  'artifact_path': 'wandb-client-artifact://iyykbgi0if4q2mljss29l9x6p95ahmkxd7x4gsmro7uyov15103ozzzqv9xksh8cjb9fnd6poxj7rfcfb94bfvaxdbz443beurqtyuc0vra7a3ix3gjg5vcrdo45y2ht:latest/head_seqs.table.json',\n",
       "  '_latest_artifact_path': 'wandb-client-artifact://iyykbgi0if4q2mljss29l9x6p95ahmkxd7x4gsmro7uyov15103ozzzqv9xksh8cjb9fnd6poxj7rfcfb94bfvaxdbz443beurqtyuc0vra7a3ix3gjg5vcrdo45y2ht:latest/head_seqs.table.json',\n",
       "  'path': 'media/table/head_seqs_4528_6a1fc272f7dbcc0fe8e7.table.json',\n",
       "  'size': 528,\n",
       "  '_type': 'table-file'},\n",
       " 'val_fscore': 0.6746987700462341,\n",
       " 'val_ctree_sim': 0.4054054021835327,\n",
       " 'test_ctree_sim': 0.4054054021835327,\n",
       " 'train_loss_epoch': 0.41120684146881104,\n",
       " 'test_fscore_postp': 0.6753246784210205,\n",
       " 'test_head_accuracy_postp': 0.692307710647583,\n",
       " '_step': 4534,\n",
       " '_timestamp': 1680170919.8975964,\n",
       " 'test_fscore': 0.6746987700462341,\n",
       " 'train_loss_step': 0.08863497525453568,\n",
       " 'val_fscore_postp': 0.6753246784210205,\n",
       " 'val_head_accuracy': 0.692307710647583,\n",
       " 'trainer/global_step': 107280,\n",
       " '_wandb': {'runtime': 3134},\n",
       " '_runtime': 3134.798234462738,\n",
       " 'val_loss': 1.2212998867034912,\n",
       " 'test_head_accuracy': 0.692307710647583,\n",
       " 'test_arc_accuracy_postp': 0.6756756901741028,\n",
       " 'val_head_accuracy_postp': 0.692307710647583}"
      ]
     },
     "execution_count": 23,
     "metadata": {},
     "output_type": "execute_result"
    }
   ],
   "source": [
    "runs_df[\"summary\"][0]"
   ]
  },
  {
   "cell_type": "code",
   "execution_count": 30,
   "metadata": {},
   "outputs": [
    {
     "name": "stdout",
     "output_type": "stream",
     "text": [
      "Loading open tree data...\n",
      "Done loading data. 0 out of 150 pieces were discarded because of errors.\n"
     ]
    }
   ],
   "source": [
    "dataset =JTBDataset(\"data/jazz_tb/treebank.json\", data_augmentation=\"preprocess\", only_tree=True, tree_type=\"open\",n_jobs=1)\n",
    "chords = dataset.chords_features \n",
    "titles = dataset.titles\n",
    "df = pd.DataFrame({\n",
    "    \"len\": [len(c) for c in chords],\n",
    "    \"titles\": titles,\n",
    "    })\n",
    "\n",
    "df.to_csv(\"len.csv\")"
   ]
  },
  {
   "cell_type": "code",
   "execution_count": 33,
   "metadata": {},
   "outputs": [],
   "source": [
    "import seaborn as sns\n",
    "import pandas as pd"
   ]
  },
  {
   "cell_type": "code",
   "execution_count": 45,
   "metadata": {},
   "outputs": [],
   "source": [
    "df = pd.read_csv(\"FormattedResults.csv\")"
   ]
  },
  {
   "cell_type": "code",
   "execution_count": 46,
   "metadata": {},
   "outputs": [
    {
     "data": {
      "text/html": [
       "<div>\n",
       "<style scoped>\n",
       "    .dataframe tbody tr th:only-of-type {\n",
       "        vertical-align: middle;\n",
       "    }\n",
       "\n",
       "    .dataframe tbody tr th {\n",
       "        vertical-align: top;\n",
       "    }\n",
       "\n",
       "    .dataframe thead th {\n",
       "        text-align: right;\n",
       "    }\n",
       "</style>\n",
       "<table border=\"1\" class=\"dataframe\">\n",
       "  <thead>\n",
       "    <tr style=\"text-align: right;\">\n",
       "      <th></th>\n",
       "      <th>Accuracy</th>\n",
       "      <th>Model</th>\n",
       "      <th>Value</th>\n",
       "    </tr>\n",
       "  </thead>\n",
       "  <tbody>\n",
       "    <tr>\n",
       "      <th>0</th>\n",
       "      <td>Arc</td>\n",
       "      <td>Harasim</td>\n",
       "      <td>0.750</td>\n",
       "    </tr>\n",
       "    <tr>\n",
       "      <th>1</th>\n",
       "      <td>Arc</td>\n",
       "      <td>Harasim</td>\n",
       "      <td>1.000</td>\n",
       "    </tr>\n",
       "    <tr>\n",
       "      <th>2</th>\n",
       "      <td>Arc</td>\n",
       "      <td>Harasim</td>\n",
       "      <td>1.000</td>\n",
       "    </tr>\n",
       "    <tr>\n",
       "      <th>3</th>\n",
       "      <td>Arc</td>\n",
       "      <td>Harasim</td>\n",
       "      <td>1.000</td>\n",
       "    </tr>\n",
       "    <tr>\n",
       "      <th>4</th>\n",
       "      <td>Arc</td>\n",
       "      <td>Harasim</td>\n",
       "      <td>0.917</td>\n",
       "    </tr>\n",
       "    <tr>\n",
       "      <th>...</th>\n",
       "      <td>...</td>\n",
       "      <td>...</td>\n",
       "      <td>...</td>\n",
       "    </tr>\n",
       "    <tr>\n",
       "      <th>745</th>\n",
       "      <td>Head</td>\n",
       "      <td>MuDeP</td>\n",
       "      <td>0.743</td>\n",
       "    </tr>\n",
       "    <tr>\n",
       "      <th>746</th>\n",
       "      <td>Head</td>\n",
       "      <td>MuDeP</td>\n",
       "      <td>0.943</td>\n",
       "    </tr>\n",
       "    <tr>\n",
       "      <th>747</th>\n",
       "      <td>Head</td>\n",
       "      <td>MuDeP</td>\n",
       "      <td>0.919</td>\n",
       "    </tr>\n",
       "    <tr>\n",
       "      <th>748</th>\n",
       "      <td>Head</td>\n",
       "      <td>MuDeP</td>\n",
       "      <td>0.784</td>\n",
       "    </tr>\n",
       "    <tr>\n",
       "      <th>749</th>\n",
       "      <td>Head</td>\n",
       "      <td>MuDeP</td>\n",
       "      <td>0.684</td>\n",
       "    </tr>\n",
       "  </tbody>\n",
       "</table>\n",
       "<p>750 rows × 3 columns</p>\n",
       "</div>"
      ],
      "text/plain": [
       "    Accuracy    Model  Value\n",
       "0        Arc  Harasim  0.750\n",
       "1        Arc  Harasim  1.000\n",
       "2        Arc  Harasim  1.000\n",
       "3        Arc  Harasim  1.000\n",
       "4        Arc  Harasim  0.917\n",
       "..       ...      ...    ...\n",
       "745     Head    MuDeP  0.743\n",
       "746     Head    MuDeP  0.943\n",
       "747     Head    MuDeP  0.919\n",
       "748     Head    MuDeP  0.784\n",
       "749     Head    MuDeP  0.684\n",
       "\n",
       "[750 rows x 3 columns]"
      ]
     },
     "execution_count": 46,
     "metadata": {},
     "output_type": "execute_result"
    }
   ],
   "source": [
    "df"
   ]
  },
  {
   "cell_type": "code",
   "execution_count": 49,
   "metadata": {},
   "outputs": [
    {
     "data": {
      "image/png": "[encoded data removed]",
      "text/plain": [
       "<Figure size 640x480 with 1 Axes>"
      ]
     },
     "metadata": {},
     "output_type": "display_data"
    }
   ],
   "source": [
    "\n",
    "# Load the example tips dataset\n",
    "# Draw a nested boxplot to show bills by day and time\n",
    "sns.boxplot(x=\"Accuracy\", y=\"Value\",\n",
    "            hue=\"Model\",\n",
    "            data=df)\n",
    "sns.despine(offset=10, trim=True)"
   ]
  },
  {
   "cell_type": "code",
   "execution_count": 38,
   "metadata": {},
   "outputs": [],
   "source": [
    "tips = sns.load_dataset(\"tips\")"
   ]
  },
  {
   "cell_type": "code",
   "execution_count": 39,
   "metadata": {},
   "outputs": [
    {
     "data": {
      "text/html": [
       "<div>\n",
       "<style scoped>\n",
       "    .dataframe tbody tr th:only-of-type {\n",
       "        vertical-align: middle;\n",
       "    }\n",
       "\n",
       "    .dataframe tbody tr th {\n",
       "        vertical-align: top;\n",
       "    }\n",
       "\n",
       "    .dataframe thead th {\n",
       "        text-align: right;\n",
       "    }\n",
       "</style>\n",
       "<table border=\"1\" class=\"dataframe\">\n",
       "  <thead>\n",
       "    <tr style=\"text-align: right;\">\n",
       "      <th></th>\n",
       "      <th>total_bill</th>\n",
       "      <th>tip</th>\n",
       "      <th>sex</th>\n",
       "      <th>smoker</th>\n",
       "      <th>day</th>\n",
       "      <th>time</th>\n",
       "      <th>size</th>\n",
       "    </tr>\n",
       "  </thead>\n",
       "  <tbody>\n",
       "    <tr>\n",
       "      <th>0</th>\n",
       "      <td>16.99</td>\n",
       "      <td>1.01</td>\n",
       "      <td>Female</td>\n",
       "      <td>No</td>\n",
       "      <td>Sun</td>\n",
       "      <td>Dinner</td>\n",
       "      <td>2</td>\n",
       "    </tr>\n",
       "    <tr>\n",
       "      <th>1</th>\n",
       "      <td>10.34</td>\n",
       "      <td>1.66</td>\n",
       "      <td>Male</td>\n",
       "      <td>No</td>\n",
       "      <td>Sun</td>\n",
       "      <td>Dinner</td>\n",
       "      <td>3</td>\n",
       "    </tr>\n",
       "    <tr>\n",
       "      <th>2</th>\n",
       "      <td>21.01</td>\n",
       "      <td>3.50</td>\n",
       "      <td>Male</td>\n",
       "      <td>No</td>\n",
       "      <td>Sun</td>\n",
       "      <td>Dinner</td>\n",
       "      <td>3</td>\n",
       "    </tr>\n",
       "    <tr>\n",
       "      <th>3</th>\n",
       "      <td>23.68</td>\n",
       "      <td>3.31</td>\n",
       "      <td>Male</td>\n",
       "      <td>No</td>\n",
       "      <td>Sun</td>\n",
       "      <td>Dinner</td>\n",
       "      <td>2</td>\n",
       "    </tr>\n",
       "    <tr>\n",
       "      <th>4</th>\n",
       "      <td>24.59</td>\n",
       "      <td>3.61</td>\n",
       "      <td>Female</td>\n",
       "      <td>No</td>\n",
       "      <td>Sun</td>\n",
       "      <td>Dinner</td>\n",
       "      <td>4</td>\n",
       "    </tr>\n",
       "    <tr>\n",
       "      <th>...</th>\n",
       "      <td>...</td>\n",
       "      <td>...</td>\n",
       "      <td>...</td>\n",
       "      <td>...</td>\n",
       "      <td>...</td>\n",
       "      <td>...</td>\n",
       "      <td>...</td>\n",
       "    </tr>\n",
       "    <tr>\n",
       "      <th>239</th>\n",
       "      <td>29.03</td>\n",
       "      <td>5.92</td>\n",
       "      <td>Male</td>\n",
       "      <td>No</td>\n",
       "      <td>Sat</td>\n",
       "      <td>Dinner</td>\n",
       "      <td>3</td>\n",
       "    </tr>\n",
       "    <tr>\n",
       "      <th>240</th>\n",
       "      <td>27.18</td>\n",
       "      <td>2.00</td>\n",
       "      <td>Female</td>\n",
       "      <td>Yes</td>\n",
       "      <td>Sat</td>\n",
       "      <td>Dinner</td>\n",
       "      <td>2</td>\n",
       "    </tr>\n",
       "    <tr>\n",
       "      <th>241</th>\n",
       "      <td>22.67</td>\n",
       "      <td>2.00</td>\n",
       "      <td>Male</td>\n",
       "      <td>Yes</td>\n",
       "      <td>Sat</td>\n",
       "      <td>Dinner</td>\n",
       "      <td>2</td>\n",
       "    </tr>\n",
       "    <tr>\n",
       "      <th>242</th>\n",
       "      <td>17.82</td>\n",
       "      <td>1.75</td>\n",
       "      <td>Male</td>\n",
       "      <td>No</td>\n",
       "      <td>Sat</td>\n",
       "      <td>Dinner</td>\n",
       "      <td>2</td>\n",
       "    </tr>\n",
       "    <tr>\n",
       "      <th>243</th>\n",
       "      <td>18.78</td>\n",
       "      <td>3.00</td>\n",
       "      <td>Female</td>\n",
       "      <td>No</td>\n",
       "      <td>Thur</td>\n",
       "      <td>Dinner</td>\n",
       "      <td>2</td>\n",
       "    </tr>\n",
       "  </tbody>\n",
       "</table>\n",
       "<p>244 rows × 7 columns</p>\n",
       "</div>"
      ],
      "text/plain": [
       "     total_bill   tip     sex smoker   day    time  size\n",
       "0         16.99  1.01  Female     No   Sun  Dinner     2\n",
       "1         10.34  1.66    Male     No   Sun  Dinner     3\n",
       "2         21.01  3.50    Male     No   Sun  Dinner     3\n",
       "3         23.68  3.31    Male     No   Sun  Dinner     2\n",
       "4         24.59  3.61  Female     No   Sun  Dinner     4\n",
       "..          ...   ...     ...    ...   ...     ...   ...\n",
       "239       29.03  5.92    Male     No   Sat  Dinner     3\n",
       "240       27.18  2.00  Female    Yes   Sat  Dinner     2\n",
       "241       22.67  2.00    Male    Yes   Sat  Dinner     2\n",
       "242       17.82  1.75    Male     No   Sat  Dinner     2\n",
       "243       18.78  3.00  Female     No  Thur  Dinner     2\n",
       "\n",
       "[244 rows x 7 columns]"
      ]
     },
     "execution_count": 39,
     "metadata": {},
     "output_type": "execute_result"
    }
   ],
   "source": [
    "tips"
   ]
  }
 ],
 "metadata": {
  "kernelspec": {
   "display_name": "musicparser",
   "language": "python",
   "name": "python3"
  },
  "language_info": {
   "codemirror_mode": {
    "name": "ipython",
    "version": 3
   },
   "file_extension": ".py",
   "mimetype": "text/x-python",
   "name": "python",
   "nbconvert_exporter": "python",
   "pygments_lexer": "ipython3",
   "version": "3.9.16"
  },
  "orig_nbformat": 4,
  "vscode": {
   "interpreter": {
    "hash": "f3a1a0e504c45797285725e128e1e34f180816d6a494b26a6972fe05249266b4"
   }
  }
 },
 "nbformat": 4,
 "nbformat_minor": 2
}
